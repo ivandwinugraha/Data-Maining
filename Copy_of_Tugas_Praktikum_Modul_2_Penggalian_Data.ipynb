{
  "cells": [
    {
      "cell_type": "code",
      "execution_count": null,
      "metadata": {
        "colab": {
          "base_uri": "https://localhost:8080/"
        },
        "id": "puCF3osriaTr",
        "outputId": "26d03b04-a363-4bcf-ea70-0cb1879b840b"
      },
      "outputs": [
        {
          "output_type": "stream",
          "name": "stdout",
          "text": [
            "Requirement already satisfied: kaggle in /usr/local/lib/python3.7/dist-packages (1.5.12)\n",
            "Requirement already satisfied: six>=1.10 in /usr/local/lib/python3.7/dist-packages (from kaggle) (1.15.0)\n",
            "Requirement already satisfied: urllib3 in /usr/local/lib/python3.7/dist-packages (from kaggle) (1.24.3)\n",
            "Requirement already satisfied: python-slugify in /usr/local/lib/python3.7/dist-packages (from kaggle) (6.1.1)\n",
            "Requirement already satisfied: certifi in /usr/local/lib/python3.7/dist-packages (from kaggle) (2021.10.8)\n",
            "Requirement already satisfied: requests in /usr/local/lib/python3.7/dist-packages (from kaggle) (2.23.0)\n",
            "Requirement already satisfied: tqdm in /usr/local/lib/python3.7/dist-packages (from kaggle) (4.63.0)\n",
            "Requirement already satisfied: python-dateutil in /usr/local/lib/python3.7/dist-packages (from kaggle) (2.8.2)\n",
            "Requirement already satisfied: text-unidecode>=1.3 in /usr/local/lib/python3.7/dist-packages (from python-slugify->kaggle) (1.3)\n",
            "Requirement already satisfied: chardet<4,>=3.0.2 in /usr/local/lib/python3.7/dist-packages (from requests->kaggle) (3.0.4)\n",
            "Requirement already satisfied: idna<3,>=2.5 in /usr/local/lib/python3.7/dist-packages (from requests->kaggle) (2.10)\n"
          ]
        }
      ],
      "source": [
        "!pip install kaggle"
      ]
    },
    {
      "cell_type": "code",
      "execution_count": null,
      "metadata": {
        "colab": {
          "base_uri": "https://localhost:8080/"
        },
        "id": "5P7gzkAoiNAV",
        "outputId": "72f73105-cc03-4d2c-8d34-60398ee044ad"
      },
      "outputs": [
        {
          "output_type": "stream",
          "name": "stdout",
          "text": [
            "Mounted at /content/gdrive\n"
          ]
        }
      ],
      "source": [
        "from google.colab import drive\n",
        "drive.mount(\"/content/gdrive\", force_remount=True)"
      ]
    },
    {
      "cell_type": "code",
      "execution_count": null,
      "metadata": {
        "colab": {
          "base_uri": "https://localhost:8080/"
        },
        "id": "8H4QdQ2Pi0eg",
        "outputId": "2f92fb64-9d4d-4672-d14b-4eab24cb53ad"
      },
      "outputs": [
        {
          "output_type": "stream",
          "name": "stdout",
          "text": [
            "/content/gdrive/My Drive/Kaggle\n"
          ]
        }
      ],
      "source": [
        "#changing the working directory\n",
        "%cd /content/gdrive/My Drive/Kaggle\n",
        "#Check the present working directory using pwd command"
      ]
    },
    {
      "cell_type": "markdown",
      "metadata": {
        "id": "ifI9iIq0VIPz"
      },
      "source": [
        "Download data dibawah ini (1 Poin)<br>\n",
        "NIM Ganjil : (https://www.kaggle.com/gregorut/videogamesales) <br>\n",
        "NIM Genap : (https://www.kaggle.com/muthuj7/weather-dataset)"
      ]
    },
    {
      "cell_type": "code",
      "execution_count": null,
      "metadata": {
        "id": "lHle4qYBVAND"
      },
      "outputs": [],
      "source": [
        "### tulis kode disini\n",
        "# !kaggle datasets download -d muthuj7/weather-dataset"
      ]
    },
    {
      "cell_type": "code",
      "execution_count": null,
      "metadata": {
        "id": "iU20eOdirNfa"
      },
      "outputs": [],
      "source": [
        "# !unzip \\*.zip  && rm *.zip"
      ]
    },
    {
      "cell_type": "markdown",
      "metadata": {
        "id": "_IvgnxWEVYqR"
      },
      "source": [
        "import data tersebut sebagai dataframe **(2 Poin)**"
      ]
    },
    {
      "cell_type": "code",
      "execution_count": null,
      "metadata": {
        "id": "ew77d2rji69Q"
      },
      "outputs": [],
      "source": [
        "import pandas as pd"
      ]
    },
    {
      "cell_type": "code",
      "execution_count": null,
      "metadata": {
        "colab": {
          "base_uri": "https://localhost:8080/",
          "height": 849
        },
        "id": "LWe5UhLKVS2J",
        "outputId": "1dad5fdc-6cd6-4636-9e69-4de77300c698"
      },
      "outputs": [
        {
          "output_type": "execute_result",
          "data": {
            "text/plain": [
              "                      Formatted Date        Summary Precip Type  \\\n",
              "0      2006-04-01 00:00:00.000 +0200  Partly Cloudy        rain   \n",
              "1      2006-04-01 01:00:00.000 +0200  Partly Cloudy        rain   \n",
              "2      2006-04-01 02:00:00.000 +0200  Mostly Cloudy        rain   \n",
              "3      2006-04-01 03:00:00.000 +0200  Partly Cloudy        rain   \n",
              "4      2006-04-01 04:00:00.000 +0200  Mostly Cloudy        rain   \n",
              "...                              ...            ...         ...   \n",
              "96448  2016-09-09 19:00:00.000 +0200  Partly Cloudy        rain   \n",
              "96449  2016-09-09 20:00:00.000 +0200  Partly Cloudy        rain   \n",
              "96450  2016-09-09 21:00:00.000 +0200  Partly Cloudy        rain   \n",
              "96451  2016-09-09 22:00:00.000 +0200  Partly Cloudy        rain   \n",
              "96452  2016-09-09 23:00:00.000 +0200  Partly Cloudy        rain   \n",
              "\n",
              "       Temperature (C)  Apparent Temperature (C)  Humidity  Wind Speed (km/h)  \\\n",
              "0             9.472222                  7.388889      0.89            14.1197   \n",
              "1             9.355556                  7.227778      0.86            14.2646   \n",
              "2             9.377778                  9.377778      0.89             3.9284   \n",
              "3             8.288889                  5.944444      0.83            14.1036   \n",
              "4             8.755556                  6.977778      0.83            11.0446   \n",
              "...                ...                       ...       ...                ...   \n",
              "96448        26.016667                 26.016667      0.43            10.9963   \n",
              "96449        24.583333                 24.583333      0.48            10.0947   \n",
              "96450        22.038889                 22.038889      0.56             8.9838   \n",
              "96451        21.522222                 21.522222      0.60            10.5294   \n",
              "96452        20.438889                 20.438889      0.61             5.8765   \n",
              "\n",
              "       Wind Bearing (degrees)  Visibility (km)  Loud Cover  \\\n",
              "0                       251.0          15.8263         0.0   \n",
              "1                       259.0          15.8263         0.0   \n",
              "2                       204.0          14.9569         0.0   \n",
              "3                       269.0          15.8263         0.0   \n",
              "4                       259.0          15.8263         0.0   \n",
              "...                       ...              ...         ...   \n",
              "96448                    31.0          16.1000         0.0   \n",
              "96449                    20.0          15.5526         0.0   \n",
              "96450                    30.0          16.1000         0.0   \n",
              "96451                    20.0          16.1000         0.0   \n",
              "96452                    39.0          15.5204         0.0   \n",
              "\n",
              "       Pressure (millibars)                           Daily Summary  \n",
              "0                   1015.13       Partly cloudy throughout the day.  \n",
              "1                   1015.63       Partly cloudy throughout the day.  \n",
              "2                   1015.94       Partly cloudy throughout the day.  \n",
              "3                   1016.41       Partly cloudy throughout the day.  \n",
              "4                   1016.51       Partly cloudy throughout the day.  \n",
              "...                     ...                                     ...  \n",
              "96448               1014.36  Partly cloudy starting in the morning.  \n",
              "96449               1015.16  Partly cloudy starting in the morning.  \n",
              "96450               1015.66  Partly cloudy starting in the morning.  \n",
              "96451               1015.95  Partly cloudy starting in the morning.  \n",
              "96452               1016.16  Partly cloudy starting in the morning.  \n",
              "\n",
              "[96453 rows x 12 columns]"
            ],
            "text/html": [
              "\n",
              "  <div id=\"df-f1264b30-26a9-438c-92fa-1f0df5ac39e1\">\n",
              "    <div class=\"colab-df-container\">\n",
              "      <div>\n",
              "<style scoped>\n",
              "    .dataframe tbody tr th:only-of-type {\n",
              "        vertical-align: middle;\n",
              "    }\n",
              "\n",
              "    .dataframe tbody tr th {\n",
              "        vertical-align: top;\n",
              "    }\n",
              "\n",
              "    .dataframe thead th {\n",
              "        text-align: right;\n",
              "    }\n",
              "</style>\n",
              "<table border=\"1\" class=\"dataframe\">\n",
              "  <thead>\n",
              "    <tr style=\"text-align: right;\">\n",
              "      <th></th>\n",
              "      <th>Formatted Date</th>\n",
              "      <th>Summary</th>\n",
              "      <th>Precip Type</th>\n",
              "      <th>Temperature (C)</th>\n",
              "      <th>Apparent Temperature (C)</th>\n",
              "      <th>Humidity</th>\n",
              "      <th>Wind Speed (km/h)</th>\n",
              "      <th>Wind Bearing (degrees)</th>\n",
              "      <th>Visibility (km)</th>\n",
              "      <th>Loud Cover</th>\n",
              "      <th>Pressure (millibars)</th>\n",
              "      <th>Daily Summary</th>\n",
              "    </tr>\n",
              "  </thead>\n",
              "  <tbody>\n",
              "    <tr>\n",
              "      <th>0</th>\n",
              "      <td>2006-04-01 00:00:00.000 +0200</td>\n",
              "      <td>Partly Cloudy</td>\n",
              "      <td>rain</td>\n",
              "      <td>9.472222</td>\n",
              "      <td>7.388889</td>\n",
              "      <td>0.89</td>\n",
              "      <td>14.1197</td>\n",
              "      <td>251.0</td>\n",
              "      <td>15.8263</td>\n",
              "      <td>0.0</td>\n",
              "      <td>1015.13</td>\n",
              "      <td>Partly cloudy throughout the day.</td>\n",
              "    </tr>\n",
              "    <tr>\n",
              "      <th>1</th>\n",
              "      <td>2006-04-01 01:00:00.000 +0200</td>\n",
              "      <td>Partly Cloudy</td>\n",
              "      <td>rain</td>\n",
              "      <td>9.355556</td>\n",
              "      <td>7.227778</td>\n",
              "      <td>0.86</td>\n",
              "      <td>14.2646</td>\n",
              "      <td>259.0</td>\n",
              "      <td>15.8263</td>\n",
              "      <td>0.0</td>\n",
              "      <td>1015.63</td>\n",
              "      <td>Partly cloudy throughout the day.</td>\n",
              "    </tr>\n",
              "    <tr>\n",
              "      <th>2</th>\n",
              "      <td>2006-04-01 02:00:00.000 +0200</td>\n",
              "      <td>Mostly Cloudy</td>\n",
              "      <td>rain</td>\n",
              "      <td>9.377778</td>\n",
              "      <td>9.377778</td>\n",
              "      <td>0.89</td>\n",
              "      <td>3.9284</td>\n",
              "      <td>204.0</td>\n",
              "      <td>14.9569</td>\n",
              "      <td>0.0</td>\n",
              "      <td>1015.94</td>\n",
              "      <td>Partly cloudy throughout the day.</td>\n",
              "    </tr>\n",
              "    <tr>\n",
              "      <th>3</th>\n",
              "      <td>2006-04-01 03:00:00.000 +0200</td>\n",
              "      <td>Partly Cloudy</td>\n",
              "      <td>rain</td>\n",
              "      <td>8.288889</td>\n",
              "      <td>5.944444</td>\n",
              "      <td>0.83</td>\n",
              "      <td>14.1036</td>\n",
              "      <td>269.0</td>\n",
              "      <td>15.8263</td>\n",
              "      <td>0.0</td>\n",
              "      <td>1016.41</td>\n",
              "      <td>Partly cloudy throughout the day.</td>\n",
              "    </tr>\n",
              "    <tr>\n",
              "      <th>4</th>\n",
              "      <td>2006-04-01 04:00:00.000 +0200</td>\n",
              "      <td>Mostly Cloudy</td>\n",
              "      <td>rain</td>\n",
              "      <td>8.755556</td>\n",
              "      <td>6.977778</td>\n",
              "      <td>0.83</td>\n",
              "      <td>11.0446</td>\n",
              "      <td>259.0</td>\n",
              "      <td>15.8263</td>\n",
              "      <td>0.0</td>\n",
              "      <td>1016.51</td>\n",
              "      <td>Partly cloudy throughout the day.</td>\n",
              "    </tr>\n",
              "    <tr>\n",
              "      <th>...</th>\n",
              "      <td>...</td>\n",
              "      <td>...</td>\n",
              "      <td>...</td>\n",
              "      <td>...</td>\n",
              "      <td>...</td>\n",
              "      <td>...</td>\n",
              "      <td>...</td>\n",
              "      <td>...</td>\n",
              "      <td>...</td>\n",
              "      <td>...</td>\n",
              "      <td>...</td>\n",
              "      <td>...</td>\n",
              "    </tr>\n",
              "    <tr>\n",
              "      <th>96448</th>\n",
              "      <td>2016-09-09 19:00:00.000 +0200</td>\n",
              "      <td>Partly Cloudy</td>\n",
              "      <td>rain</td>\n",
              "      <td>26.016667</td>\n",
              "      <td>26.016667</td>\n",
              "      <td>0.43</td>\n",
              "      <td>10.9963</td>\n",
              "      <td>31.0</td>\n",
              "      <td>16.1000</td>\n",
              "      <td>0.0</td>\n",
              "      <td>1014.36</td>\n",
              "      <td>Partly cloudy starting in the morning.</td>\n",
              "    </tr>\n",
              "    <tr>\n",
              "      <th>96449</th>\n",
              "      <td>2016-09-09 20:00:00.000 +0200</td>\n",
              "      <td>Partly Cloudy</td>\n",
              "      <td>rain</td>\n",
              "      <td>24.583333</td>\n",
              "      <td>24.583333</td>\n",
              "      <td>0.48</td>\n",
              "      <td>10.0947</td>\n",
              "      <td>20.0</td>\n",
              "      <td>15.5526</td>\n",
              "      <td>0.0</td>\n",
              "      <td>1015.16</td>\n",
              "      <td>Partly cloudy starting in the morning.</td>\n",
              "    </tr>\n",
              "    <tr>\n",
              "      <th>96450</th>\n",
              "      <td>2016-09-09 21:00:00.000 +0200</td>\n",
              "      <td>Partly Cloudy</td>\n",
              "      <td>rain</td>\n",
              "      <td>22.038889</td>\n",
              "      <td>22.038889</td>\n",
              "      <td>0.56</td>\n",
              "      <td>8.9838</td>\n",
              "      <td>30.0</td>\n",
              "      <td>16.1000</td>\n",
              "      <td>0.0</td>\n",
              "      <td>1015.66</td>\n",
              "      <td>Partly cloudy starting in the morning.</td>\n",
              "    </tr>\n",
              "    <tr>\n",
              "      <th>96451</th>\n",
              "      <td>2016-09-09 22:00:00.000 +0200</td>\n",
              "      <td>Partly Cloudy</td>\n",
              "      <td>rain</td>\n",
              "      <td>21.522222</td>\n",
              "      <td>21.522222</td>\n",
              "      <td>0.60</td>\n",
              "      <td>10.5294</td>\n",
              "      <td>20.0</td>\n",
              "      <td>16.1000</td>\n",
              "      <td>0.0</td>\n",
              "      <td>1015.95</td>\n",
              "      <td>Partly cloudy starting in the morning.</td>\n",
              "    </tr>\n",
              "    <tr>\n",
              "      <th>96452</th>\n",
              "      <td>2016-09-09 23:00:00.000 +0200</td>\n",
              "      <td>Partly Cloudy</td>\n",
              "      <td>rain</td>\n",
              "      <td>20.438889</td>\n",
              "      <td>20.438889</td>\n",
              "      <td>0.61</td>\n",
              "      <td>5.8765</td>\n",
              "      <td>39.0</td>\n",
              "      <td>15.5204</td>\n",
              "      <td>0.0</td>\n",
              "      <td>1016.16</td>\n",
              "      <td>Partly cloudy starting in the morning.</td>\n",
              "    </tr>\n",
              "  </tbody>\n",
              "</table>\n",
              "<p>96453 rows × 12 columns</p>\n",
              "</div>\n",
              "      <button class=\"colab-df-convert\" onclick=\"convertToInteractive('df-f1264b30-26a9-438c-92fa-1f0df5ac39e1')\"\n",
              "              title=\"Convert this dataframe to an interactive table.\"\n",
              "              style=\"display:none;\">\n",
              "        \n",
              "  <svg xmlns=\"http://www.w3.org/2000/svg\" height=\"24px\"viewBox=\"0 0 24 24\"\n",
              "       width=\"24px\">\n",
              "    <path d=\"M0 0h24v24H0V0z\" fill=\"none\"/>\n",
              "    <path d=\"M18.56 5.44l.94 2.06.94-2.06 2.06-.94-2.06-.94-.94-2.06-.94 2.06-2.06.94zm-11 1L8.5 8.5l.94-2.06 2.06-.94-2.06-.94L8.5 2.5l-.94 2.06-2.06.94zm10 10l.94 2.06.94-2.06 2.06-.94-2.06-.94-.94-2.06-.94 2.06-2.06.94z\"/><path d=\"M17.41 7.96l-1.37-1.37c-.4-.4-.92-.59-1.43-.59-.52 0-1.04.2-1.43.59L10.3 9.45l-7.72 7.72c-.78.78-.78 2.05 0 2.83L4 21.41c.39.39.9.59 1.41.59.51 0 1.02-.2 1.41-.59l7.78-7.78 2.81-2.81c.8-.78.8-2.07 0-2.86zM5.41 20L4 18.59l7.72-7.72 1.47 1.35L5.41 20z\"/>\n",
              "  </svg>\n",
              "      </button>\n",
              "      \n",
              "  <style>\n",
              "    .colab-df-container {\n",
              "      display:flex;\n",
              "      flex-wrap:wrap;\n",
              "      gap: 12px;\n",
              "    }\n",
              "\n",
              "    .colab-df-convert {\n",
              "      background-color: #E8F0FE;\n",
              "      border: none;\n",
              "      border-radius: 50%;\n",
              "      cursor: pointer;\n",
              "      display: none;\n",
              "      fill: #1967D2;\n",
              "      height: 32px;\n",
              "      padding: 0 0 0 0;\n",
              "      width: 32px;\n",
              "    }\n",
              "\n",
              "    .colab-df-convert:hover {\n",
              "      background-color: #E2EBFA;\n",
              "      box-shadow: 0px 1px 2px rgba(60, 64, 67, 0.3), 0px 1px 3px 1px rgba(60, 64, 67, 0.15);\n",
              "      fill: #174EA6;\n",
              "    }\n",
              "\n",
              "    [theme=dark] .colab-df-convert {\n",
              "      background-color: #3B4455;\n",
              "      fill: #D2E3FC;\n",
              "    }\n",
              "\n",
              "    [theme=dark] .colab-df-convert:hover {\n",
              "      background-color: #434B5C;\n",
              "      box-shadow: 0px 1px 3px 1px rgba(0, 0, 0, 0.15);\n",
              "      filter: drop-shadow(0px 1px 2px rgba(0, 0, 0, 0.3));\n",
              "      fill: #FFFFFF;\n",
              "    }\n",
              "  </style>\n",
              "\n",
              "      <script>\n",
              "        const buttonEl =\n",
              "          document.querySelector('#df-f1264b30-26a9-438c-92fa-1f0df5ac39e1 button.colab-df-convert');\n",
              "        buttonEl.style.display =\n",
              "          google.colab.kernel.accessAllowed ? 'block' : 'none';\n",
              "\n",
              "        async function convertToInteractive(key) {\n",
              "          const element = document.querySelector('#df-f1264b30-26a9-438c-92fa-1f0df5ac39e1');\n",
              "          const dataTable =\n",
              "            await google.colab.kernel.invokeFunction('convertToInteractive',\n",
              "                                                     [key], {});\n",
              "          if (!dataTable) return;\n",
              "\n",
              "          const docLinkHtml = 'Like what you see? Visit the ' +\n",
              "            '<a target=\"_blank\" href=https://colab.research.google.com/notebooks/data_table.ipynb>data table notebook</a>'\n",
              "            + ' to learn more about interactive tables.';\n",
              "          element.innerHTML = '';\n",
              "          dataTable['output_type'] = 'display_data';\n",
              "          await google.colab.output.renderOutput(dataTable, element);\n",
              "          const docLink = document.createElement('div');\n",
              "          docLink.innerHTML = docLinkHtml;\n",
              "          element.appendChild(docLink);\n",
              "        }\n",
              "      </script>\n",
              "    </div>\n",
              "  </div>\n",
              "  "
            ]
          },
          "metadata": {},
          "execution_count": 7
        }
      ],
      "source": [
        "### tulis kode disini\n",
        "df = pd.read_csv(\"weatherHistory.csv\")\n",
        "df"
      ]
    },
    {
      "cell_type": "markdown",
      "metadata": {
        "id": "QugFnCy9Vcqi"
      },
      "source": [
        "describe data tersebut **(10 Poin)** dan jelaskan pada asisten."
      ]
    },
    {
      "cell_type": "code",
      "execution_count": null,
      "metadata": {
        "colab": {
          "base_uri": "https://localhost:8080/",
          "height": 361
        },
        "id": "55n6AQ-2Vk15",
        "outputId": "6c110c11-2347-458c-92d9-e74c693a9715"
      },
      "outputs": [
        {
          "output_type": "execute_result",
          "data": {
            "text/plain": [
              "       Temperature (C)  Apparent Temperature (C)      Humidity  \\\n",
              "count     96453.000000              96453.000000  96453.000000   \n",
              "mean         11.932678                 10.855029      0.734899   \n",
              "std           9.551546                 10.696847      0.195473   \n",
              "min         -21.822222                -27.716667      0.000000   \n",
              "25%           4.688889                  2.311111      0.600000   \n",
              "50%          12.000000                 12.000000      0.780000   \n",
              "75%          18.838889                 18.838889      0.890000   \n",
              "max          39.905556                 39.344444      1.000000   \n",
              "\n",
              "       Wind Speed (km/h)  Wind Bearing (degrees)  Visibility (km)  Loud Cover  \\\n",
              "count       96453.000000            96453.000000     96453.000000     96453.0   \n",
              "mean           10.810640              187.509232        10.347325         0.0   \n",
              "std             6.913571              107.383428         4.192123         0.0   \n",
              "min             0.000000                0.000000         0.000000         0.0   \n",
              "25%             5.828200              116.000000         8.339800         0.0   \n",
              "50%             9.965900              180.000000        10.046400         0.0   \n",
              "75%            14.135800              290.000000        14.812000         0.0   \n",
              "max            63.852600              359.000000        16.100000         0.0   \n",
              "\n",
              "       Pressure (millibars)  \n",
              "count          96453.000000  \n",
              "mean            1003.235956  \n",
              "std              116.969906  \n",
              "min                0.000000  \n",
              "25%             1011.900000  \n",
              "50%             1016.450000  \n",
              "75%             1021.090000  \n",
              "max             1046.380000  "
            ],
            "text/html": [
              "\n",
              "  <div id=\"df-20f61bfc-68c9-4f21-b6d7-ffafde070896\">\n",
              "    <div class=\"colab-df-container\">\n",
              "      <div>\n",
              "<style scoped>\n",
              "    .dataframe tbody tr th:only-of-type {\n",
              "        vertical-align: middle;\n",
              "    }\n",
              "\n",
              "    .dataframe tbody tr th {\n",
              "        vertical-align: top;\n",
              "    }\n",
              "\n",
              "    .dataframe thead th {\n",
              "        text-align: right;\n",
              "    }\n",
              "</style>\n",
              "<table border=\"1\" class=\"dataframe\">\n",
              "  <thead>\n",
              "    <tr style=\"text-align: right;\">\n",
              "      <th></th>\n",
              "      <th>Temperature (C)</th>\n",
              "      <th>Apparent Temperature (C)</th>\n",
              "      <th>Humidity</th>\n",
              "      <th>Wind Speed (km/h)</th>\n",
              "      <th>Wind Bearing (degrees)</th>\n",
              "      <th>Visibility (km)</th>\n",
              "      <th>Loud Cover</th>\n",
              "      <th>Pressure (millibars)</th>\n",
              "    </tr>\n",
              "  </thead>\n",
              "  <tbody>\n",
              "    <tr>\n",
              "      <th>count</th>\n",
              "      <td>96453.000000</td>\n",
              "      <td>96453.000000</td>\n",
              "      <td>96453.000000</td>\n",
              "      <td>96453.000000</td>\n",
              "      <td>96453.000000</td>\n",
              "      <td>96453.000000</td>\n",
              "      <td>96453.0</td>\n",
              "      <td>96453.000000</td>\n",
              "    </tr>\n",
              "    <tr>\n",
              "      <th>mean</th>\n",
              "      <td>11.932678</td>\n",
              "      <td>10.855029</td>\n",
              "      <td>0.734899</td>\n",
              "      <td>10.810640</td>\n",
              "      <td>187.509232</td>\n",
              "      <td>10.347325</td>\n",
              "      <td>0.0</td>\n",
              "      <td>1003.235956</td>\n",
              "    </tr>\n",
              "    <tr>\n",
              "      <th>std</th>\n",
              "      <td>9.551546</td>\n",
              "      <td>10.696847</td>\n",
              "      <td>0.195473</td>\n",
              "      <td>6.913571</td>\n",
              "      <td>107.383428</td>\n",
              "      <td>4.192123</td>\n",
              "      <td>0.0</td>\n",
              "      <td>116.969906</td>\n",
              "    </tr>\n",
              "    <tr>\n",
              "      <th>min</th>\n",
              "      <td>-21.822222</td>\n",
              "      <td>-27.716667</td>\n",
              "      <td>0.000000</td>\n",
              "      <td>0.000000</td>\n",
              "      <td>0.000000</td>\n",
              "      <td>0.000000</td>\n",
              "      <td>0.0</td>\n",
              "      <td>0.000000</td>\n",
              "    </tr>\n",
              "    <tr>\n",
              "      <th>25%</th>\n",
              "      <td>4.688889</td>\n",
              "      <td>2.311111</td>\n",
              "      <td>0.600000</td>\n",
              "      <td>5.828200</td>\n",
              "      <td>116.000000</td>\n",
              "      <td>8.339800</td>\n",
              "      <td>0.0</td>\n",
              "      <td>1011.900000</td>\n",
              "    </tr>\n",
              "    <tr>\n",
              "      <th>50%</th>\n",
              "      <td>12.000000</td>\n",
              "      <td>12.000000</td>\n",
              "      <td>0.780000</td>\n",
              "      <td>9.965900</td>\n",
              "      <td>180.000000</td>\n",
              "      <td>10.046400</td>\n",
              "      <td>0.0</td>\n",
              "      <td>1016.450000</td>\n",
              "    </tr>\n",
              "    <tr>\n",
              "      <th>75%</th>\n",
              "      <td>18.838889</td>\n",
              "      <td>18.838889</td>\n",
              "      <td>0.890000</td>\n",
              "      <td>14.135800</td>\n",
              "      <td>290.000000</td>\n",
              "      <td>14.812000</td>\n",
              "      <td>0.0</td>\n",
              "      <td>1021.090000</td>\n",
              "    </tr>\n",
              "    <tr>\n",
              "      <th>max</th>\n",
              "      <td>39.905556</td>\n",
              "      <td>39.344444</td>\n",
              "      <td>1.000000</td>\n",
              "      <td>63.852600</td>\n",
              "      <td>359.000000</td>\n",
              "      <td>16.100000</td>\n",
              "      <td>0.0</td>\n",
              "      <td>1046.380000</td>\n",
              "    </tr>\n",
              "  </tbody>\n",
              "</table>\n",
              "</div>\n",
              "      <button class=\"colab-df-convert\" onclick=\"convertToInteractive('df-20f61bfc-68c9-4f21-b6d7-ffafde070896')\"\n",
              "              title=\"Convert this dataframe to an interactive table.\"\n",
              "              style=\"display:none;\">\n",
              "        \n",
              "  <svg xmlns=\"http://www.w3.org/2000/svg\" height=\"24px\"viewBox=\"0 0 24 24\"\n",
              "       width=\"24px\">\n",
              "    <path d=\"M0 0h24v24H0V0z\" fill=\"none\"/>\n",
              "    <path d=\"M18.56 5.44l.94 2.06.94-2.06 2.06-.94-2.06-.94-.94-2.06-.94 2.06-2.06.94zm-11 1L8.5 8.5l.94-2.06 2.06-.94-2.06-.94L8.5 2.5l-.94 2.06-2.06.94zm10 10l.94 2.06.94-2.06 2.06-.94-2.06-.94-.94-2.06-.94 2.06-2.06.94z\"/><path d=\"M17.41 7.96l-1.37-1.37c-.4-.4-.92-.59-1.43-.59-.52 0-1.04.2-1.43.59L10.3 9.45l-7.72 7.72c-.78.78-.78 2.05 0 2.83L4 21.41c.39.39.9.59 1.41.59.51 0 1.02-.2 1.41-.59l7.78-7.78 2.81-2.81c.8-.78.8-2.07 0-2.86zM5.41 20L4 18.59l7.72-7.72 1.47 1.35L5.41 20z\"/>\n",
              "  </svg>\n",
              "      </button>\n",
              "      \n",
              "  <style>\n",
              "    .colab-df-container {\n",
              "      display:flex;\n",
              "      flex-wrap:wrap;\n",
              "      gap: 12px;\n",
              "    }\n",
              "\n",
              "    .colab-df-convert {\n",
              "      background-color: #E8F0FE;\n",
              "      border: none;\n",
              "      border-radius: 50%;\n",
              "      cursor: pointer;\n",
              "      display: none;\n",
              "      fill: #1967D2;\n",
              "      height: 32px;\n",
              "      padding: 0 0 0 0;\n",
              "      width: 32px;\n",
              "    }\n",
              "\n",
              "    .colab-df-convert:hover {\n",
              "      background-color: #E2EBFA;\n",
              "      box-shadow: 0px 1px 2px rgba(60, 64, 67, 0.3), 0px 1px 3px 1px rgba(60, 64, 67, 0.15);\n",
              "      fill: #174EA6;\n",
              "    }\n",
              "\n",
              "    [theme=dark] .colab-df-convert {\n",
              "      background-color: #3B4455;\n",
              "      fill: #D2E3FC;\n",
              "    }\n",
              "\n",
              "    [theme=dark] .colab-df-convert:hover {\n",
              "      background-color: #434B5C;\n",
              "      box-shadow: 0px 1px 3px 1px rgba(0, 0, 0, 0.15);\n",
              "      filter: drop-shadow(0px 1px 2px rgba(0, 0, 0, 0.3));\n",
              "      fill: #FFFFFF;\n",
              "    }\n",
              "  </style>\n",
              "\n",
              "      <script>\n",
              "        const buttonEl =\n",
              "          document.querySelector('#df-20f61bfc-68c9-4f21-b6d7-ffafde070896 button.colab-df-convert');\n",
              "        buttonEl.style.display =\n",
              "          google.colab.kernel.accessAllowed ? 'block' : 'none';\n",
              "\n",
              "        async function convertToInteractive(key) {\n",
              "          const element = document.querySelector('#df-20f61bfc-68c9-4f21-b6d7-ffafde070896');\n",
              "          const dataTable =\n",
              "            await google.colab.kernel.invokeFunction('convertToInteractive',\n",
              "                                                     [key], {});\n",
              "          if (!dataTable) return;\n",
              "\n",
              "          const docLinkHtml = 'Like what you see? Visit the ' +\n",
              "            '<a target=\"_blank\" href=https://colab.research.google.com/notebooks/data_table.ipynb>data table notebook</a>'\n",
              "            + ' to learn more about interactive tables.';\n",
              "          element.innerHTML = '';\n",
              "          dataTable['output_type'] = 'display_data';\n",
              "          await google.colab.output.renderOutput(dataTable, element);\n",
              "          const docLink = document.createElement('div');\n",
              "          docLink.innerHTML = docLinkHtml;\n",
              "          element.appendChild(docLink);\n",
              "        }\n",
              "      </script>\n",
              "    </div>\n",
              "  </div>\n",
              "  "
            ]
          },
          "metadata": {},
          "execution_count": 8
        }
      ],
      "source": [
        "### tulis kode disini\n",
        "df.describe()"
      ]
    },
    {
      "cell_type": "markdown",
      "metadata": {
        "id": "-EfNOOXiVnrI"
      },
      "source": [
        "Tampilkan head dan tail dari data tersebut **(5 Poin)**"
      ]
    },
    {
      "cell_type": "code",
      "execution_count": null,
      "metadata": {
        "colab": {
          "base_uri": "https://localhost:8080/",
          "height": 459
        },
        "id": "McatPiZrVzK_",
        "outputId": "45664445-3eb1-4a2d-ed19-cbb32061423b"
      },
      "outputs": [
        {
          "output_type": "execute_result",
          "data": {
            "text/plain": [
              "                  Formatted Date        Summary Precip Type  Temperature (C)  \\\n",
              "0  2006-04-01 00:00:00.000 +0200  Partly Cloudy        rain         9.472222   \n",
              "1  2006-04-01 01:00:00.000 +0200  Partly Cloudy        rain         9.355556   \n",
              "2  2006-04-01 02:00:00.000 +0200  Mostly Cloudy        rain         9.377778   \n",
              "3  2006-04-01 03:00:00.000 +0200  Partly Cloudy        rain         8.288889   \n",
              "4  2006-04-01 04:00:00.000 +0200  Mostly Cloudy        rain         8.755556   \n",
              "\n",
              "   Apparent Temperature (C)  Humidity  Wind Speed (km/h)  \\\n",
              "0                  7.388889      0.89            14.1197   \n",
              "1                  7.227778      0.86            14.2646   \n",
              "2                  9.377778      0.89             3.9284   \n",
              "3                  5.944444      0.83            14.1036   \n",
              "4                  6.977778      0.83            11.0446   \n",
              "\n",
              "   Wind Bearing (degrees)  Visibility (km)  Loud Cover  Pressure (millibars)  \\\n",
              "0                   251.0          15.8263         0.0               1015.13   \n",
              "1                   259.0          15.8263         0.0               1015.63   \n",
              "2                   204.0          14.9569         0.0               1015.94   \n",
              "3                   269.0          15.8263         0.0               1016.41   \n",
              "4                   259.0          15.8263         0.0               1016.51   \n",
              "\n",
              "                       Daily Summary  \n",
              "0  Partly cloudy throughout the day.  \n",
              "1  Partly cloudy throughout the day.  \n",
              "2  Partly cloudy throughout the day.  \n",
              "3  Partly cloudy throughout the day.  \n",
              "4  Partly cloudy throughout the day.  "
            ],
            "text/html": [
              "\n",
              "  <div id=\"df-cfd2147d-73b6-4657-88cb-defd7abdec2d\">\n",
              "    <div class=\"colab-df-container\">\n",
              "      <div>\n",
              "<style scoped>\n",
              "    .dataframe tbody tr th:only-of-type {\n",
              "        vertical-align: middle;\n",
              "    }\n",
              "\n",
              "    .dataframe tbody tr th {\n",
              "        vertical-align: top;\n",
              "    }\n",
              "\n",
              "    .dataframe thead th {\n",
              "        text-align: right;\n",
              "    }\n",
              "</style>\n",
              "<table border=\"1\" class=\"dataframe\">\n",
              "  <thead>\n",
              "    <tr style=\"text-align: right;\">\n",
              "      <th></th>\n",
              "      <th>Formatted Date</th>\n",
              "      <th>Summary</th>\n",
              "      <th>Precip Type</th>\n",
              "      <th>Temperature (C)</th>\n",
              "      <th>Apparent Temperature (C)</th>\n",
              "      <th>Humidity</th>\n",
              "      <th>Wind Speed (km/h)</th>\n",
              "      <th>Wind Bearing (degrees)</th>\n",
              "      <th>Visibility (km)</th>\n",
              "      <th>Loud Cover</th>\n",
              "      <th>Pressure (millibars)</th>\n",
              "      <th>Daily Summary</th>\n",
              "    </tr>\n",
              "  </thead>\n",
              "  <tbody>\n",
              "    <tr>\n",
              "      <th>0</th>\n",
              "      <td>2006-04-01 00:00:00.000 +0200</td>\n",
              "      <td>Partly Cloudy</td>\n",
              "      <td>rain</td>\n",
              "      <td>9.472222</td>\n",
              "      <td>7.388889</td>\n",
              "      <td>0.89</td>\n",
              "      <td>14.1197</td>\n",
              "      <td>251.0</td>\n",
              "      <td>15.8263</td>\n",
              "      <td>0.0</td>\n",
              "      <td>1015.13</td>\n",
              "      <td>Partly cloudy throughout the day.</td>\n",
              "    </tr>\n",
              "    <tr>\n",
              "      <th>1</th>\n",
              "      <td>2006-04-01 01:00:00.000 +0200</td>\n",
              "      <td>Partly Cloudy</td>\n",
              "      <td>rain</td>\n",
              "      <td>9.355556</td>\n",
              "      <td>7.227778</td>\n",
              "      <td>0.86</td>\n",
              "      <td>14.2646</td>\n",
              "      <td>259.0</td>\n",
              "      <td>15.8263</td>\n",
              "      <td>0.0</td>\n",
              "      <td>1015.63</td>\n",
              "      <td>Partly cloudy throughout the day.</td>\n",
              "    </tr>\n",
              "    <tr>\n",
              "      <th>2</th>\n",
              "      <td>2006-04-01 02:00:00.000 +0200</td>\n",
              "      <td>Mostly Cloudy</td>\n",
              "      <td>rain</td>\n",
              "      <td>9.377778</td>\n",
              "      <td>9.377778</td>\n",
              "      <td>0.89</td>\n",
              "      <td>3.9284</td>\n",
              "      <td>204.0</td>\n",
              "      <td>14.9569</td>\n",
              "      <td>0.0</td>\n",
              "      <td>1015.94</td>\n",
              "      <td>Partly cloudy throughout the day.</td>\n",
              "    </tr>\n",
              "    <tr>\n",
              "      <th>3</th>\n",
              "      <td>2006-04-01 03:00:00.000 +0200</td>\n",
              "      <td>Partly Cloudy</td>\n",
              "      <td>rain</td>\n",
              "      <td>8.288889</td>\n",
              "      <td>5.944444</td>\n",
              "      <td>0.83</td>\n",
              "      <td>14.1036</td>\n",
              "      <td>269.0</td>\n",
              "      <td>15.8263</td>\n",
              "      <td>0.0</td>\n",
              "      <td>1016.41</td>\n",
              "      <td>Partly cloudy throughout the day.</td>\n",
              "    </tr>\n",
              "    <tr>\n",
              "      <th>4</th>\n",
              "      <td>2006-04-01 04:00:00.000 +0200</td>\n",
              "      <td>Mostly Cloudy</td>\n",
              "      <td>rain</td>\n",
              "      <td>8.755556</td>\n",
              "      <td>6.977778</td>\n",
              "      <td>0.83</td>\n",
              "      <td>11.0446</td>\n",
              "      <td>259.0</td>\n",
              "      <td>15.8263</td>\n",
              "      <td>0.0</td>\n",
              "      <td>1016.51</td>\n",
              "      <td>Partly cloudy throughout the day.</td>\n",
              "    </tr>\n",
              "  </tbody>\n",
              "</table>\n",
              "</div>\n",
              "      <button class=\"colab-df-convert\" onclick=\"convertToInteractive('df-cfd2147d-73b6-4657-88cb-defd7abdec2d')\"\n",
              "              title=\"Convert this dataframe to an interactive table.\"\n",
              "              style=\"display:none;\">\n",
              "        \n",
              "  <svg xmlns=\"http://www.w3.org/2000/svg\" height=\"24px\"viewBox=\"0 0 24 24\"\n",
              "       width=\"24px\">\n",
              "    <path d=\"M0 0h24v24H0V0z\" fill=\"none\"/>\n",
              "    <path d=\"M18.56 5.44l.94 2.06.94-2.06 2.06-.94-2.06-.94-.94-2.06-.94 2.06-2.06.94zm-11 1L8.5 8.5l.94-2.06 2.06-.94-2.06-.94L8.5 2.5l-.94 2.06-2.06.94zm10 10l.94 2.06.94-2.06 2.06-.94-2.06-.94-.94-2.06-.94 2.06-2.06.94z\"/><path d=\"M17.41 7.96l-1.37-1.37c-.4-.4-.92-.59-1.43-.59-.52 0-1.04.2-1.43.59L10.3 9.45l-7.72 7.72c-.78.78-.78 2.05 0 2.83L4 21.41c.39.39.9.59 1.41.59.51 0 1.02-.2 1.41-.59l7.78-7.78 2.81-2.81c.8-.78.8-2.07 0-2.86zM5.41 20L4 18.59l7.72-7.72 1.47 1.35L5.41 20z\"/>\n",
              "  </svg>\n",
              "      </button>\n",
              "      \n",
              "  <style>\n",
              "    .colab-df-container {\n",
              "      display:flex;\n",
              "      flex-wrap:wrap;\n",
              "      gap: 12px;\n",
              "    }\n",
              "\n",
              "    .colab-df-convert {\n",
              "      background-color: #E8F0FE;\n",
              "      border: none;\n",
              "      border-radius: 50%;\n",
              "      cursor: pointer;\n",
              "      display: none;\n",
              "      fill: #1967D2;\n",
              "      height: 32px;\n",
              "      padding: 0 0 0 0;\n",
              "      width: 32px;\n",
              "    }\n",
              "\n",
              "    .colab-df-convert:hover {\n",
              "      background-color: #E2EBFA;\n",
              "      box-shadow: 0px 1px 2px rgba(60, 64, 67, 0.3), 0px 1px 3px 1px rgba(60, 64, 67, 0.15);\n",
              "      fill: #174EA6;\n",
              "    }\n",
              "\n",
              "    [theme=dark] .colab-df-convert {\n",
              "      background-color: #3B4455;\n",
              "      fill: #D2E3FC;\n",
              "    }\n",
              "\n",
              "    [theme=dark] .colab-df-convert:hover {\n",
              "      background-color: #434B5C;\n",
              "      box-shadow: 0px 1px 3px 1px rgba(0, 0, 0, 0.15);\n",
              "      filter: drop-shadow(0px 1px 2px rgba(0, 0, 0, 0.3));\n",
              "      fill: #FFFFFF;\n",
              "    }\n",
              "  </style>\n",
              "\n",
              "      <script>\n",
              "        const buttonEl =\n",
              "          document.querySelector('#df-cfd2147d-73b6-4657-88cb-defd7abdec2d button.colab-df-convert');\n",
              "        buttonEl.style.display =\n",
              "          google.colab.kernel.accessAllowed ? 'block' : 'none';\n",
              "\n",
              "        async function convertToInteractive(key) {\n",
              "          const element = document.querySelector('#df-cfd2147d-73b6-4657-88cb-defd7abdec2d');\n",
              "          const dataTable =\n",
              "            await google.colab.kernel.invokeFunction('convertToInteractive',\n",
              "                                                     [key], {});\n",
              "          if (!dataTable) return;\n",
              "\n",
              "          const docLinkHtml = 'Like what you see? Visit the ' +\n",
              "            '<a target=\"_blank\" href=https://colab.research.google.com/notebooks/data_table.ipynb>data table notebook</a>'\n",
              "            + ' to learn more about interactive tables.';\n",
              "          element.innerHTML = '';\n",
              "          dataTable['output_type'] = 'display_data';\n",
              "          await google.colab.output.renderOutput(dataTable, element);\n",
              "          const docLink = document.createElement('div');\n",
              "          docLink.innerHTML = docLinkHtml;\n",
              "          element.appendChild(docLink);\n",
              "        }\n",
              "      </script>\n",
              "    </div>\n",
              "  </div>\n",
              "  "
            ]
          },
          "metadata": {},
          "execution_count": 9
        }
      ],
      "source": [
        "### tulis kode disini\n",
        "df.head()"
      ]
    },
    {
      "cell_type": "code",
      "execution_count": null,
      "metadata": {
        "colab": {
          "base_uri": "https://localhost:8080/",
          "height": 459
        },
        "id": "5LCo5YGlroQ4",
        "outputId": "832f2c30-24bc-46a6-8eaf-e8f1ce7c7392"
      },
      "outputs": [
        {
          "output_type": "execute_result",
          "data": {
            "text/plain": [
              "                      Formatted Date        Summary Precip Type  \\\n",
              "96448  2016-09-09 19:00:00.000 +0200  Partly Cloudy        rain   \n",
              "96449  2016-09-09 20:00:00.000 +0200  Partly Cloudy        rain   \n",
              "96450  2016-09-09 21:00:00.000 +0200  Partly Cloudy        rain   \n",
              "96451  2016-09-09 22:00:00.000 +0200  Partly Cloudy        rain   \n",
              "96452  2016-09-09 23:00:00.000 +0200  Partly Cloudy        rain   \n",
              "\n",
              "       Temperature (C)  Apparent Temperature (C)  Humidity  Wind Speed (km/h)  \\\n",
              "96448        26.016667                 26.016667      0.43            10.9963   \n",
              "96449        24.583333                 24.583333      0.48            10.0947   \n",
              "96450        22.038889                 22.038889      0.56             8.9838   \n",
              "96451        21.522222                 21.522222      0.60            10.5294   \n",
              "96452        20.438889                 20.438889      0.61             5.8765   \n",
              "\n",
              "       Wind Bearing (degrees)  Visibility (km)  Loud Cover  \\\n",
              "96448                    31.0          16.1000         0.0   \n",
              "96449                    20.0          15.5526         0.0   \n",
              "96450                    30.0          16.1000         0.0   \n",
              "96451                    20.0          16.1000         0.0   \n",
              "96452                    39.0          15.5204         0.0   \n",
              "\n",
              "       Pressure (millibars)                           Daily Summary  \n",
              "96448               1014.36  Partly cloudy starting in the morning.  \n",
              "96449               1015.16  Partly cloudy starting in the morning.  \n",
              "96450               1015.66  Partly cloudy starting in the morning.  \n",
              "96451               1015.95  Partly cloudy starting in the morning.  \n",
              "96452               1016.16  Partly cloudy starting in the morning.  "
            ],
            "text/html": [
              "\n",
              "  <div id=\"df-f5093060-aade-4e41-881f-56d9a0f71f0f\">\n",
              "    <div class=\"colab-df-container\">\n",
              "      <div>\n",
              "<style scoped>\n",
              "    .dataframe tbody tr th:only-of-type {\n",
              "        vertical-align: middle;\n",
              "    }\n",
              "\n",
              "    .dataframe tbody tr th {\n",
              "        vertical-align: top;\n",
              "    }\n",
              "\n",
              "    .dataframe thead th {\n",
              "        text-align: right;\n",
              "    }\n",
              "</style>\n",
              "<table border=\"1\" class=\"dataframe\">\n",
              "  <thead>\n",
              "    <tr style=\"text-align: right;\">\n",
              "      <th></th>\n",
              "      <th>Formatted Date</th>\n",
              "      <th>Summary</th>\n",
              "      <th>Precip Type</th>\n",
              "      <th>Temperature (C)</th>\n",
              "      <th>Apparent Temperature (C)</th>\n",
              "      <th>Humidity</th>\n",
              "      <th>Wind Speed (km/h)</th>\n",
              "      <th>Wind Bearing (degrees)</th>\n",
              "      <th>Visibility (km)</th>\n",
              "      <th>Loud Cover</th>\n",
              "      <th>Pressure (millibars)</th>\n",
              "      <th>Daily Summary</th>\n",
              "    </tr>\n",
              "  </thead>\n",
              "  <tbody>\n",
              "    <tr>\n",
              "      <th>96448</th>\n",
              "      <td>2016-09-09 19:00:00.000 +0200</td>\n",
              "      <td>Partly Cloudy</td>\n",
              "      <td>rain</td>\n",
              "      <td>26.016667</td>\n",
              "      <td>26.016667</td>\n",
              "      <td>0.43</td>\n",
              "      <td>10.9963</td>\n",
              "      <td>31.0</td>\n",
              "      <td>16.1000</td>\n",
              "      <td>0.0</td>\n",
              "      <td>1014.36</td>\n",
              "      <td>Partly cloudy starting in the morning.</td>\n",
              "    </tr>\n",
              "    <tr>\n",
              "      <th>96449</th>\n",
              "      <td>2016-09-09 20:00:00.000 +0200</td>\n",
              "      <td>Partly Cloudy</td>\n",
              "      <td>rain</td>\n",
              "      <td>24.583333</td>\n",
              "      <td>24.583333</td>\n",
              "      <td>0.48</td>\n",
              "      <td>10.0947</td>\n",
              "      <td>20.0</td>\n",
              "      <td>15.5526</td>\n",
              "      <td>0.0</td>\n",
              "      <td>1015.16</td>\n",
              "      <td>Partly cloudy starting in the morning.</td>\n",
              "    </tr>\n",
              "    <tr>\n",
              "      <th>96450</th>\n",
              "      <td>2016-09-09 21:00:00.000 +0200</td>\n",
              "      <td>Partly Cloudy</td>\n",
              "      <td>rain</td>\n",
              "      <td>22.038889</td>\n",
              "      <td>22.038889</td>\n",
              "      <td>0.56</td>\n",
              "      <td>8.9838</td>\n",
              "      <td>30.0</td>\n",
              "      <td>16.1000</td>\n",
              "      <td>0.0</td>\n",
              "      <td>1015.66</td>\n",
              "      <td>Partly cloudy starting in the morning.</td>\n",
              "    </tr>\n",
              "    <tr>\n",
              "      <th>96451</th>\n",
              "      <td>2016-09-09 22:00:00.000 +0200</td>\n",
              "      <td>Partly Cloudy</td>\n",
              "      <td>rain</td>\n",
              "      <td>21.522222</td>\n",
              "      <td>21.522222</td>\n",
              "      <td>0.60</td>\n",
              "      <td>10.5294</td>\n",
              "      <td>20.0</td>\n",
              "      <td>16.1000</td>\n",
              "      <td>0.0</td>\n",
              "      <td>1015.95</td>\n",
              "      <td>Partly cloudy starting in the morning.</td>\n",
              "    </tr>\n",
              "    <tr>\n",
              "      <th>96452</th>\n",
              "      <td>2016-09-09 23:00:00.000 +0200</td>\n",
              "      <td>Partly Cloudy</td>\n",
              "      <td>rain</td>\n",
              "      <td>20.438889</td>\n",
              "      <td>20.438889</td>\n",
              "      <td>0.61</td>\n",
              "      <td>5.8765</td>\n",
              "      <td>39.0</td>\n",
              "      <td>15.5204</td>\n",
              "      <td>0.0</td>\n",
              "      <td>1016.16</td>\n",
              "      <td>Partly cloudy starting in the morning.</td>\n",
              "    </tr>\n",
              "  </tbody>\n",
              "</table>\n",
              "</div>\n",
              "      <button class=\"colab-df-convert\" onclick=\"convertToInteractive('df-f5093060-aade-4e41-881f-56d9a0f71f0f')\"\n",
              "              title=\"Convert this dataframe to an interactive table.\"\n",
              "              style=\"display:none;\">\n",
              "        \n",
              "  <svg xmlns=\"http://www.w3.org/2000/svg\" height=\"24px\"viewBox=\"0 0 24 24\"\n",
              "       width=\"24px\">\n",
              "    <path d=\"M0 0h24v24H0V0z\" fill=\"none\"/>\n",
              "    <path d=\"M18.56 5.44l.94 2.06.94-2.06 2.06-.94-2.06-.94-.94-2.06-.94 2.06-2.06.94zm-11 1L8.5 8.5l.94-2.06 2.06-.94-2.06-.94L8.5 2.5l-.94 2.06-2.06.94zm10 10l.94 2.06.94-2.06 2.06-.94-2.06-.94-.94-2.06-.94 2.06-2.06.94z\"/><path d=\"M17.41 7.96l-1.37-1.37c-.4-.4-.92-.59-1.43-.59-.52 0-1.04.2-1.43.59L10.3 9.45l-7.72 7.72c-.78.78-.78 2.05 0 2.83L4 21.41c.39.39.9.59 1.41.59.51 0 1.02-.2 1.41-.59l7.78-7.78 2.81-2.81c.8-.78.8-2.07 0-2.86zM5.41 20L4 18.59l7.72-7.72 1.47 1.35L5.41 20z\"/>\n",
              "  </svg>\n",
              "      </button>\n",
              "      \n",
              "  <style>\n",
              "    .colab-df-container {\n",
              "      display:flex;\n",
              "      flex-wrap:wrap;\n",
              "      gap: 12px;\n",
              "    }\n",
              "\n",
              "    .colab-df-convert {\n",
              "      background-color: #E8F0FE;\n",
              "      border: none;\n",
              "      border-radius: 50%;\n",
              "      cursor: pointer;\n",
              "      display: none;\n",
              "      fill: #1967D2;\n",
              "      height: 32px;\n",
              "      padding: 0 0 0 0;\n",
              "      width: 32px;\n",
              "    }\n",
              "\n",
              "    .colab-df-convert:hover {\n",
              "      background-color: #E2EBFA;\n",
              "      box-shadow: 0px 1px 2px rgba(60, 64, 67, 0.3), 0px 1px 3px 1px rgba(60, 64, 67, 0.15);\n",
              "      fill: #174EA6;\n",
              "    }\n",
              "\n",
              "    [theme=dark] .colab-df-convert {\n",
              "      background-color: #3B4455;\n",
              "      fill: #D2E3FC;\n",
              "    }\n",
              "\n",
              "    [theme=dark] .colab-df-convert:hover {\n",
              "      background-color: #434B5C;\n",
              "      box-shadow: 0px 1px 3px 1px rgba(0, 0, 0, 0.15);\n",
              "      filter: drop-shadow(0px 1px 2px rgba(0, 0, 0, 0.3));\n",
              "      fill: #FFFFFF;\n",
              "    }\n",
              "  </style>\n",
              "\n",
              "      <script>\n",
              "        const buttonEl =\n",
              "          document.querySelector('#df-f5093060-aade-4e41-881f-56d9a0f71f0f button.colab-df-convert');\n",
              "        buttonEl.style.display =\n",
              "          google.colab.kernel.accessAllowed ? 'block' : 'none';\n",
              "\n",
              "        async function convertToInteractive(key) {\n",
              "          const element = document.querySelector('#df-f5093060-aade-4e41-881f-56d9a0f71f0f');\n",
              "          const dataTable =\n",
              "            await google.colab.kernel.invokeFunction('convertToInteractive',\n",
              "                                                     [key], {});\n",
              "          if (!dataTable) return;\n",
              "\n",
              "          const docLinkHtml = 'Like what you see? Visit the ' +\n",
              "            '<a target=\"_blank\" href=https://colab.research.google.com/notebooks/data_table.ipynb>data table notebook</a>'\n",
              "            + ' to learn more about interactive tables.';\n",
              "          element.innerHTML = '';\n",
              "          dataTable['output_type'] = 'display_data';\n",
              "          await google.colab.output.renderOutput(dataTable, element);\n",
              "          const docLink = document.createElement('div');\n",
              "          docLink.innerHTML = docLinkHtml;\n",
              "          element.appendChild(docLink);\n",
              "        }\n",
              "      </script>\n",
              "    </div>\n",
              "  </div>\n",
              "  "
            ]
          },
          "metadata": {},
          "execution_count": 10
        }
      ],
      "source": [
        "df.tail()"
      ]
    },
    {
      "cell_type": "markdown",
      "metadata": {
        "id": "nRj7IGSRV1SJ"
      },
      "source": [
        "tampilkan nama column dari data tersebut **(2 Poin)**"
      ]
    },
    {
      "cell_type": "code",
      "execution_count": null,
      "metadata": {
        "colab": {
          "base_uri": "https://localhost:8080/"
        },
        "id": "Wi6nogxTV6hu",
        "outputId": "519c30ef-c731-4b24-9645-ee56edf6f155"
      },
      "outputs": [
        {
          "output_type": "execute_result",
          "data": {
            "text/plain": [
              "Index(['Formatted Date', 'Summary', 'Precip Type', 'Temperature (C)',\n",
              "       'Apparent Temperature (C)', 'Humidity', 'Wind Speed (km/h)',\n",
              "       'Wind Bearing (degrees)', 'Visibility (km)', 'Loud Cover',\n",
              "       'Pressure (millibars)', 'Daily Summary'],\n",
              "      dtype='object')"
            ]
          },
          "metadata": {},
          "execution_count": 43
        }
      ],
      "source": [
        "### tulis kode disini\n",
        "df.columns"
      ]
    },
    {
      "cell_type": "code",
      "execution_count": null,
      "metadata": {
        "colab": {
          "base_uri": "https://localhost:8080/"
        },
        "id": "97m-BBD9whoS",
        "outputId": "4e91d1f6-9989-44b2-e8a5-9a19eb002545"
      },
      "outputs": [
        {
          "output_type": "execute_result",
          "data": {
            "text/plain": [
              "['Formatted Date',\n",
              " 'Summary',\n",
              " 'Precip Type',\n",
              " 'Temperature (C)',\n",
              " 'Apparent Temperature (C)',\n",
              " 'Humidity',\n",
              " 'Wind Speed (km/h)',\n",
              " 'Wind Bearing (degrees)',\n",
              " 'Visibility (km)',\n",
              " 'Loud Cover',\n",
              " 'Pressure (millibars)',\n",
              " 'Daily Summary']"
            ]
          },
          "metadata": {},
          "execution_count": 12
        }
      ],
      "source": [
        "list(df.columns)"
      ]
    },
    {
      "cell_type": "markdown",
      "metadata": {
        "id": "Xm5RObFNV9T7"
      },
      "source": [
        "drop column yang tidak diperlukan, dan jelaskan kepada asisten kenapa kolom tersebut tidak diperlukan **(15 Poin)**"
      ]
    },
    {
      "cell_type": "code",
      "execution_count": null,
      "metadata": {
        "id": "A0ls4tTmWFV9"
      },
      "outputs": [],
      "source": [
        "### tulis kode disini\n",
        "df_cleaned = df.drop(['Loud Cover'], axis=1)"
      ]
    },
    {
      "cell_type": "markdown",
      "metadata": {
        "id": "zGfLgv09wXJC"
      },
      "source": [
        ""
      ]
    },
    {
      "cell_type": "markdown",
      "metadata": {
        "id": "zUsmiDN9WHCO"
      },
      "source": [
        "tampilkan head data setelah ada kolom yang dihapus **(5 Poin)**"
      ]
    },
    {
      "cell_type": "code",
      "execution_count": null,
      "metadata": {
        "colab": {
          "base_uri": "https://localhost:8080/",
          "height": 260
        },
        "id": "UjizApZ5WMDB",
        "outputId": "172e28a7-1908-489e-e59a-2c9ac1e59aa2"
      },
      "outputs": [
        {
          "output_type": "execute_result",
          "data": {
            "text/plain": [
              "                  Formatted Date        Summary Precip Type  Temperature (C)  \\\n",
              "0  2006-04-01 00:00:00.000 +0200  Partly Cloudy        rain         9.472222   \n",
              "1  2006-04-01 01:00:00.000 +0200  Partly Cloudy        rain         9.355556   \n",
              "\n",
              "   Apparent Temperature (C)  Humidity  Wind Speed (km/h)  \\\n",
              "0                  7.388889      0.89            14.1197   \n",
              "1                  7.227778      0.86            14.2646   \n",
              "\n",
              "   Wind Bearing (degrees)  Visibility (km)  Pressure (millibars)  \\\n",
              "0                   251.0          15.8263               1015.13   \n",
              "1                   259.0          15.8263               1015.63   \n",
              "\n",
              "                       Daily Summary  \n",
              "0  Partly cloudy throughout the day.  \n",
              "1  Partly cloudy throughout the day.  "
            ],
            "text/html": [
              "\n",
              "  <div id=\"df-3e74be30-54d5-4c6f-8080-4a828c05298c\">\n",
              "    <div class=\"colab-df-container\">\n",
              "      <div>\n",
              "<style scoped>\n",
              "    .dataframe tbody tr th:only-of-type {\n",
              "        vertical-align: middle;\n",
              "    }\n",
              "\n",
              "    .dataframe tbody tr th {\n",
              "        vertical-align: top;\n",
              "    }\n",
              "\n",
              "    .dataframe thead th {\n",
              "        text-align: right;\n",
              "    }\n",
              "</style>\n",
              "<table border=\"1\" class=\"dataframe\">\n",
              "  <thead>\n",
              "    <tr style=\"text-align: right;\">\n",
              "      <th></th>\n",
              "      <th>Formatted Date</th>\n",
              "      <th>Summary</th>\n",
              "      <th>Precip Type</th>\n",
              "      <th>Temperature (C)</th>\n",
              "      <th>Apparent Temperature (C)</th>\n",
              "      <th>Humidity</th>\n",
              "      <th>Wind Speed (km/h)</th>\n",
              "      <th>Wind Bearing (degrees)</th>\n",
              "      <th>Visibility (km)</th>\n",
              "      <th>Pressure (millibars)</th>\n",
              "      <th>Daily Summary</th>\n",
              "    </tr>\n",
              "  </thead>\n",
              "  <tbody>\n",
              "    <tr>\n",
              "      <th>0</th>\n",
              "      <td>2006-04-01 00:00:00.000 +0200</td>\n",
              "      <td>Partly Cloudy</td>\n",
              "      <td>rain</td>\n",
              "      <td>9.472222</td>\n",
              "      <td>7.388889</td>\n",
              "      <td>0.89</td>\n",
              "      <td>14.1197</td>\n",
              "      <td>251.0</td>\n",
              "      <td>15.8263</td>\n",
              "      <td>1015.13</td>\n",
              "      <td>Partly cloudy throughout the day.</td>\n",
              "    </tr>\n",
              "    <tr>\n",
              "      <th>1</th>\n",
              "      <td>2006-04-01 01:00:00.000 +0200</td>\n",
              "      <td>Partly Cloudy</td>\n",
              "      <td>rain</td>\n",
              "      <td>9.355556</td>\n",
              "      <td>7.227778</td>\n",
              "      <td>0.86</td>\n",
              "      <td>14.2646</td>\n",
              "      <td>259.0</td>\n",
              "      <td>15.8263</td>\n",
              "      <td>1015.63</td>\n",
              "      <td>Partly cloudy throughout the day.</td>\n",
              "    </tr>\n",
              "  </tbody>\n",
              "</table>\n",
              "</div>\n",
              "      <button class=\"colab-df-convert\" onclick=\"convertToInteractive('df-3e74be30-54d5-4c6f-8080-4a828c05298c')\"\n",
              "              title=\"Convert this dataframe to an interactive table.\"\n",
              "              style=\"display:none;\">\n",
              "        \n",
              "  <svg xmlns=\"http://www.w3.org/2000/svg\" height=\"24px\"viewBox=\"0 0 24 24\"\n",
              "       width=\"24px\">\n",
              "    <path d=\"M0 0h24v24H0V0z\" fill=\"none\"/>\n",
              "    <path d=\"M18.56 5.44l.94 2.06.94-2.06 2.06-.94-2.06-.94-.94-2.06-.94 2.06-2.06.94zm-11 1L8.5 8.5l.94-2.06 2.06-.94-2.06-.94L8.5 2.5l-.94 2.06-2.06.94zm10 10l.94 2.06.94-2.06 2.06-.94-2.06-.94-.94-2.06-.94 2.06-2.06.94z\"/><path d=\"M17.41 7.96l-1.37-1.37c-.4-.4-.92-.59-1.43-.59-.52 0-1.04.2-1.43.59L10.3 9.45l-7.72 7.72c-.78.78-.78 2.05 0 2.83L4 21.41c.39.39.9.59 1.41.59.51 0 1.02-.2 1.41-.59l7.78-7.78 2.81-2.81c.8-.78.8-2.07 0-2.86zM5.41 20L4 18.59l7.72-7.72 1.47 1.35L5.41 20z\"/>\n",
              "  </svg>\n",
              "      </button>\n",
              "      \n",
              "  <style>\n",
              "    .colab-df-container {\n",
              "      display:flex;\n",
              "      flex-wrap:wrap;\n",
              "      gap: 12px;\n",
              "    }\n",
              "\n",
              "    .colab-df-convert {\n",
              "      background-color: #E8F0FE;\n",
              "      border: none;\n",
              "      border-radius: 50%;\n",
              "      cursor: pointer;\n",
              "      display: none;\n",
              "      fill: #1967D2;\n",
              "      height: 32px;\n",
              "      padding: 0 0 0 0;\n",
              "      width: 32px;\n",
              "    }\n",
              "\n",
              "    .colab-df-convert:hover {\n",
              "      background-color: #E2EBFA;\n",
              "      box-shadow: 0px 1px 2px rgba(60, 64, 67, 0.3), 0px 1px 3px 1px rgba(60, 64, 67, 0.15);\n",
              "      fill: #174EA6;\n",
              "    }\n",
              "\n",
              "    [theme=dark] .colab-df-convert {\n",
              "      background-color: #3B4455;\n",
              "      fill: #D2E3FC;\n",
              "    }\n",
              "\n",
              "    [theme=dark] .colab-df-convert:hover {\n",
              "      background-color: #434B5C;\n",
              "      box-shadow: 0px 1px 3px 1px rgba(0, 0, 0, 0.15);\n",
              "      filter: drop-shadow(0px 1px 2px rgba(0, 0, 0, 0.3));\n",
              "      fill: #FFFFFF;\n",
              "    }\n",
              "  </style>\n",
              "\n",
              "      <script>\n",
              "        const buttonEl =\n",
              "          document.querySelector('#df-3e74be30-54d5-4c6f-8080-4a828c05298c button.colab-df-convert');\n",
              "        buttonEl.style.display =\n",
              "          google.colab.kernel.accessAllowed ? 'block' : 'none';\n",
              "\n",
              "        async function convertToInteractive(key) {\n",
              "          const element = document.querySelector('#df-3e74be30-54d5-4c6f-8080-4a828c05298c');\n",
              "          const dataTable =\n",
              "            await google.colab.kernel.invokeFunction('convertToInteractive',\n",
              "                                                     [key], {});\n",
              "          if (!dataTable) return;\n",
              "\n",
              "          const docLinkHtml = 'Like what you see? Visit the ' +\n",
              "            '<a target=\"_blank\" href=https://colab.research.google.com/notebooks/data_table.ipynb>data table notebook</a>'\n",
              "            + ' to learn more about interactive tables.';\n",
              "          element.innerHTML = '';\n",
              "          dataTable['output_type'] = 'display_data';\n",
              "          await google.colab.output.renderOutput(dataTable, element);\n",
              "          const docLink = document.createElement('div');\n",
              "          docLink.innerHTML = docLinkHtml;\n",
              "          element.appendChild(docLink);\n",
              "        }\n",
              "      </script>\n",
              "    </div>\n",
              "  </div>\n",
              "  "
            ]
          },
          "metadata": {},
          "execution_count": 14
        }
      ],
      "source": [
        "### tulis kode disini\n",
        "df_cleaned.head(2)"
      ]
    },
    {
      "cell_type": "markdown",
      "metadata": {
        "id": "tQT19arQWN18"
      },
      "source": [
        "cek data apakah ada yang null **(5 Poin)**"
      ]
    },
    {
      "cell_type": "code",
      "execution_count": null,
      "metadata": {
        "colab": {
          "base_uri": "https://localhost:8080/"
        },
        "id": "KKjCm4OkWnae",
        "outputId": "acb7e064-b362-4ca5-df31-64979b1dced5"
      },
      "outputs": [
        {
          "output_type": "execute_result",
          "data": {
            "text/plain": [
              "Formatted Date                0\n",
              "Summary                       0\n",
              "Precip Type                 517\n",
              "Temperature (C)               0\n",
              "Apparent Temperature (C)      0\n",
              "Humidity                      0\n",
              "Wind Speed (km/h)             0\n",
              "Wind Bearing (degrees)        0\n",
              "Visibility (km)               0\n",
              "Pressure (millibars)          0\n",
              "Daily Summary                 0\n",
              "dtype: int64"
            ]
          },
          "metadata": {},
          "execution_count": 15
        }
      ],
      "source": [
        "### tulis kode disini\n",
        "df_cleaned.isnull().sum()"
      ]
    },
    {
      "cell_type": "markdown",
      "metadata": {
        "id": "RrWhfTOBWSko"
      },
      "source": [
        "lakukan cleaning data, dan jelaskan pada asisten proses cleaning data tersebut **(20 Poin)**"
      ]
    },
    {
      "cell_type": "code",
      "execution_count": null,
      "metadata": {
        "colab": {
          "base_uri": "https://localhost:8080/"
        },
        "id": "4B6OuLB-SG3g",
        "outputId": "8097c673-4612-4385-c2de-550f182030ee"
      },
      "outputs": [
        {
          "output_type": "stream",
          "name": "stdout",
          "text": [
            "['rain' 'snow' 'neither']\n"
          ]
        }
      ],
      "source": [
        "import numpy as np\n",
        "df_cleaned['Precip Type'] = df_cleaned['Precip Type'].map({'rain':'rain', 'snow':'snow',np.nan: 'neither'})\n",
        "print(df_cleaned['Precip Type'].unique())"
      ]
    },
    {
      "cell_type": "markdown",
      "metadata": {
        "id": "szsqsmTmWZ0q"
      },
      "source": [
        "tampilkan data setelah dilakukan cleaning **(5 Poin)**"
      ]
    },
    {
      "cell_type": "code",
      "execution_count": null,
      "metadata": {
        "colab": {
          "base_uri": "https://localhost:8080/"
        },
        "id": "erNL9UHj443K",
        "outputId": "6f2d3639-005d-40d5-da04-5843e281cb9f"
      },
      "outputs": [
        {
          "output_type": "execute_result",
          "data": {
            "text/plain": [
              "Formatted Date              0\n",
              "Summary                     0\n",
              "Precip Type                 0\n",
              "Temperature (C)             0\n",
              "Apparent Temperature (C)    0\n",
              "Humidity                    0\n",
              "Wind Speed (km/h)           0\n",
              "Wind Bearing (degrees)      0\n",
              "Visibility (km)             0\n",
              "Pressure (millibars)        0\n",
              "Daily Summary               0\n",
              "dtype: int64"
            ]
          },
          "metadata": {},
          "execution_count": 17
        }
      ],
      "source": [
        "### tulis kode disini\n",
        "df_cleaned.isnull().sum()"
      ]
    },
    {
      "cell_type": "code",
      "execution_count": null,
      "metadata": {
        "colab": {
          "base_uri": "https://localhost:8080/"
        },
        "id": "oobhrLNZWoy9",
        "outputId": "ada3c6e8-6b6d-4bf5-beef-aae2ddd88ea0"
      },
      "outputs": [
        {
          "output_type": "stream",
          "name": "stdout",
          "text": [
            "Jumlah record sebelum proses cleaning =  96453\n",
            "Jumlah atribut sebelum proses cleaning=  12\n",
            "Jumlah record setelah proses cleaning =  96453\n",
            "Jumlah atribut setelah proses cleaning=  11\n"
          ]
        }
      ],
      "source": [
        "print('Jumlah record sebelum proses cleaning = ',df.shape[0])\n",
        "print('Jumlah atribut sebelum proses cleaning= ',df.shape[1])\n",
        "print('Jumlah record setelah proses cleaning = ',df_cleaned.shape[0])\n",
        "print('Jumlah atribut setelah proses cleaning= ',df_cleaned.shape[1])"
      ]
    },
    {
      "cell_type": "markdown",
      "metadata": {
        "id": "QVDxdJ5qWfu-"
      },
      "source": [
        "analisis data tersebut, dan tampilkan minimal 3 chart dari data tersebut **(30 Poin)** serta jelaskan kepada asisten mengenai chart yang kalian buat dan informasi apa yang bisa kalian dapatkan"
      ]
    },
    {
      "cell_type": "code",
      "execution_count": null,
      "metadata": {
        "colab": {
          "base_uri": "https://localhost:8080/",
          "height": 889
        },
        "id": "2arnld8mOaIK",
        "outputId": "601f8c24-0884-4196-d2f8-cba1bbb87c63"
      },
      "outputs": [
        {
          "output_type": "execute_result",
          "data": {
            "text/plain": [
              "array([[<matplotlib.axes._subplots.AxesSubplot object at 0x7fe6cb641390>,\n",
              "        <matplotlib.axes._subplots.AxesSubplot object at 0x7fe6cb618890>,\n",
              "        <matplotlib.axes._subplots.AxesSubplot object at 0x7fe6cb5d1e50>],\n",
              "       [<matplotlib.axes._subplots.AxesSubplot object at 0x7fe6cb594490>,\n",
              "        <matplotlib.axes._subplots.AxesSubplot object at 0x7fe6cb54ca90>,\n",
              "        <matplotlib.axes._subplots.AxesSubplot object at 0x7fe6cb50e0d0>],\n",
              "       [<matplotlib.axes._subplots.AxesSubplot object at 0x7fe6cb4c5750>,\n",
              "        <matplotlib.axes._subplots.AxesSubplot object at 0x7fe6cb47ac10>,\n",
              "        <matplotlib.axes._subplots.AxesSubplot object at 0x7fe6cb47ac50>]],\n",
              "      dtype=object)"
            ]
          },
          "metadata": {},
          "execution_count": 19
        },
        {
          "output_type": "display_data",
          "data": {
            "text/plain": [
              "<Figure size 1080x864 with 9 Axes>"
            ],
            "image/png": "[encoded data removed]"
          },
          "metadata": {
            "needs_background": "light"
          }
        }
      ],
      "source": [
        "df_cleaned.hist(figsize=(15, 12))"
      ]
    },
    {
      "cell_type": "code",
      "execution_count": null,
      "metadata": {
        "colab": {
          "base_uri": "https://localhost:8080/",
          "height": 315
        },
        "id": "BNnXaPNsPnrb",
        "outputId": "c92d4901-f434-4655-cc4a-5d6f22eb1154"
      },
      "outputs": [
        {
          "output_type": "execute_result",
          "data": {
            "text/plain": [
              "Text(0.5, 1.0, 'Humidity selama rain,snow, & neither ')"
            ]
          },
          "metadata": {},
          "execution_count": 20
        },
        {
          "output_type": "display_data",
          "data": {
            "text/plain": [
              "<Figure size 432x288 with 1 Axes>"
            ],
            "image/png": "[encoded data removed]"
          },
          "metadata": {
            "needs_background": "light"
          }
        }
      ],
      "source": [
        "import matplotlib.pyplot as plt\n",
        "import seaborn as sns\n",
        "sns.countplot(x= round(df_cleaned['Humidity'],1),hue=df_cleaned['Precip Type'])\n",
        "plt.title(\"Humidity selama rain,snow, & neither \",fontsize=15)"
      ]
    },
    {
      "cell_type": "code",
      "execution_count": null,
      "metadata": {
        "colab": {
          "base_uri": "https://localhost:8080/"
        },
        "id": "v1bfB7kgodWT",
        "outputId": "a4d0f146-9705-48d4-eca3-bf945e07c9b7"
      },
      "outputs": [
        {
          "output_type": "stream",
          "name": "stdout",
          "text": [
            "<class 'pandas.core.frame.DataFrame'>\n",
            "RangeIndex: 96453 entries, 0 to 96452\n",
            "Data columns (total 11 columns):\n",
            " #   Column                    Non-Null Count  Dtype  \n",
            "---  ------                    --------------  -----  \n",
            " 0   Formatted Date            96453 non-null  object \n",
            " 1   Summary                   96453 non-null  object \n",
            " 2   Precip Type               96453 non-null  object \n",
            " 3   Temperature (C)           96453 non-null  float64\n",
            " 4   Apparent Temperature (C)  96453 non-null  float64\n",
            " 5   Humidity                  96453 non-null  float64\n",
            " 6   Wind Speed (km/h)         96453 non-null  float64\n",
            " 7   Wind Bearing (degrees)    96453 non-null  float64\n",
            " 8   Visibility (km)           96453 non-null  float64\n",
            " 9   Pressure (millibars)      96453 non-null  float64\n",
            " 10  Daily Summary             96453 non-null  object \n",
            "dtypes: float64(7), object(4)\n",
            "memory usage: 8.1+ MB\n"
          ]
        }
      ],
      "source": [
        "df_cleaned.info()"
      ]
    },
    {
      "cell_type": "code",
      "execution_count": null,
      "metadata": {
        "colab": {
          "base_uri": "https://localhost:8080/",
          "height": 385
        },
        "id": "dqsYTKTXFObe",
        "outputId": "0ffd1632-c100-45ed-91fb-680d936af002"
      },
      "outputs": [
        {
          "output_type": "execute_result",
          "data": {
            "text/plain": [
              "                           Temperature (C)  Apparent Temperature (C)  \\\n",
              "Formatted Date                                                         \n",
              "2005-12-31 00:00:00+00:00         0.577778                 -4.050000   \n",
              "2006-01-31 00:00:00+00:00        -1.677942                 -4.173708   \n",
              "2006-02-28 00:00:00+00:00        -0.065394                 -2.990716   \n",
              "2006-03-31 00:00:00+00:00         4.559274                  1.969780   \n",
              "2006-04-30 00:00:00+00:00        12.635031                 12.098827   \n",
              "\n",
              "                           Humidity  Wind Speed (km/h)  \\\n",
              "Formatted Date                                           \n",
              "2005-12-31 00:00:00+00:00  0.890000          17.114300   \n",
              "2006-01-31 00:00:00+00:00  0.834610           8.894211   \n",
              "2006-02-28 00:00:00+00:00  0.843467          10.957008   \n",
              "2006-03-31 00:00:00+00:00  0.778737          14.421488   \n",
              "2006-04-30 00:00:00+00:00  0.728625          10.930670   \n",
              "\n",
              "                           Wind Bearing (degrees)  Visibility (km)  \\\n",
              "Formatted Date                                                       \n",
              "2005-12-31 00:00:00+00:00              140.000000         9.982000   \n",
              "2006-01-31 00:00:00+00:00              161.018817         7.894064   \n",
              "2006-02-28 00:00:00+00:00              197.886905         7.418794   \n",
              "2006-03-31 00:00:00+00:00              195.059140         9.602590   \n",
              "2006-04-30 00:00:00+00:00              191.877778        10.626760   \n",
              "\n",
              "                           Pressure (millibars)  \n",
              "Formatted Date                                   \n",
              "2005-12-31 00:00:00+00:00           1016.660000  \n",
              "2006-01-31 00:00:00+00:00           1021.204960  \n",
              "2006-02-28 00:00:00+00:00            995.183914  \n",
              "2006-03-31 00:00:00+00:00            976.436263  \n",
              "2006-04-30 00:00:00+00:00           1013.493694  "
            ],
            "text/html": [
              "\n",
              "  <div id=\"df-d603a371-cdbe-41e7-8163-e9b0c231111e\">\n",
              "    <div class=\"colab-df-container\">\n",
              "      <div>\n",
              "<style scoped>\n",
              "    .dataframe tbody tr th:only-of-type {\n",
              "        vertical-align: middle;\n",
              "    }\n",
              "\n",
              "    .dataframe tbody tr th {\n",
              "        vertical-align: top;\n",
              "    }\n",
              "\n",
              "    .dataframe thead th {\n",
              "        text-align: right;\n",
              "    }\n",
              "</style>\n",
              "<table border=\"1\" class=\"dataframe\">\n",
              "  <thead>\n",
              "    <tr style=\"text-align: right;\">\n",
              "      <th></th>\n",
              "      <th>Temperature (C)</th>\n",
              "      <th>Apparent Temperature (C)</th>\n",
              "      <th>Humidity</th>\n",
              "      <th>Wind Speed (km/h)</th>\n",
              "      <th>Wind Bearing (degrees)</th>\n",
              "      <th>Visibility (km)</th>\n",
              "      <th>Pressure (millibars)</th>\n",
              "    </tr>\n",
              "    <tr>\n",
              "      <th>Formatted Date</th>\n",
              "      <th></th>\n",
              "      <th></th>\n",
              "      <th></th>\n",
              "      <th></th>\n",
              "      <th></th>\n",
              "      <th></th>\n",
              "      <th></th>\n",
              "    </tr>\n",
              "  </thead>\n",
              "  <tbody>\n",
              "    <tr>\n",
              "      <th>2005-12-31 00:00:00+00:00</th>\n",
              "      <td>0.577778</td>\n",
              "      <td>-4.050000</td>\n",
              "      <td>0.890000</td>\n",
              "      <td>17.114300</td>\n",
              "      <td>140.000000</td>\n",
              "      <td>9.982000</td>\n",
              "      <td>1016.660000</td>\n",
              "    </tr>\n",
              "    <tr>\n",
              "      <th>2006-01-31 00:00:00+00:00</th>\n",
              "      <td>-1.677942</td>\n",
              "      <td>-4.173708</td>\n",
              "      <td>0.834610</td>\n",
              "      <td>8.894211</td>\n",
              "      <td>161.018817</td>\n",
              "      <td>7.894064</td>\n",
              "      <td>1021.204960</td>\n",
              "    </tr>\n",
              "    <tr>\n",
              "      <th>2006-02-28 00:00:00+00:00</th>\n",
              "      <td>-0.065394</td>\n",
              "      <td>-2.990716</td>\n",
              "      <td>0.843467</td>\n",
              "      <td>10.957008</td>\n",
              "      <td>197.886905</td>\n",
              "      <td>7.418794</td>\n",
              "      <td>995.183914</td>\n",
              "    </tr>\n",
              "    <tr>\n",
              "      <th>2006-03-31 00:00:00+00:00</th>\n",
              "      <td>4.559274</td>\n",
              "      <td>1.969780</td>\n",
              "      <td>0.778737</td>\n",
              "      <td>14.421488</td>\n",
              "      <td>195.059140</td>\n",
              "      <td>9.602590</td>\n",
              "      <td>976.436263</td>\n",
              "    </tr>\n",
              "    <tr>\n",
              "      <th>2006-04-30 00:00:00+00:00</th>\n",
              "      <td>12.635031</td>\n",
              "      <td>12.098827</td>\n",
              "      <td>0.728625</td>\n",
              "      <td>10.930670</td>\n",
              "      <td>191.877778</td>\n",
              "      <td>10.626760</td>\n",
              "      <td>1013.493694</td>\n",
              "    </tr>\n",
              "  </tbody>\n",
              "</table>\n",
              "</div>\n",
              "      <button class=\"colab-df-convert\" onclick=\"convertToInteractive('df-d603a371-cdbe-41e7-8163-e9b0c231111e')\"\n",
              "              title=\"Convert this dataframe to an interactive table.\"\n",
              "              style=\"display:none;\">\n",
              "        \n",
              "  <svg xmlns=\"http://www.w3.org/2000/svg\" height=\"24px\"viewBox=\"0 0 24 24\"\n",
              "       width=\"24px\">\n",
              "    <path d=\"M0 0h24v24H0V0z\" fill=\"none\"/>\n",
              "    <path d=\"M18.56 5.44l.94 2.06.94-2.06 2.06-.94-2.06-.94-.94-2.06-.94 2.06-2.06.94zm-11 1L8.5 8.5l.94-2.06 2.06-.94-2.06-.94L8.5 2.5l-.94 2.06-2.06.94zm10 10l.94 2.06.94-2.06 2.06-.94-2.06-.94-.94-2.06-.94 2.06-2.06.94z\"/><path d=\"M17.41 7.96l-1.37-1.37c-.4-.4-.92-.59-1.43-.59-.52 0-1.04.2-1.43.59L10.3 9.45l-7.72 7.72c-.78.78-.78 2.05 0 2.83L4 21.41c.39.39.9.59 1.41.59.51 0 1.02-.2 1.41-.59l7.78-7.78 2.81-2.81c.8-.78.8-2.07 0-2.86zM5.41 20L4 18.59l7.72-7.72 1.47 1.35L5.41 20z\"/>\n",
              "  </svg>\n",
              "      </button>\n",
              "      \n",
              "  <style>\n",
              "    .colab-df-container {\n",
              "      display:flex;\n",
              "      flex-wrap:wrap;\n",
              "      gap: 12px;\n",
              "    }\n",
              "\n",
              "    .colab-df-convert {\n",
              "      background-color: #E8F0FE;\n",
              "      border: none;\n",
              "      border-radius: 50%;\n",
              "      cursor: pointer;\n",
              "      display: none;\n",
              "      fill: #1967D2;\n",
              "      height: 32px;\n",
              "      padding: 0 0 0 0;\n",
              "      width: 32px;\n",
              "    }\n",
              "\n",
              "    .colab-df-convert:hover {\n",
              "      background-color: #E2EBFA;\n",
              "      box-shadow: 0px 1px 2px rgba(60, 64, 67, 0.3), 0px 1px 3px 1px rgba(60, 64, 67, 0.15);\n",
              "      fill: #174EA6;\n",
              "    }\n",
              "\n",
              "    [theme=dark] .colab-df-convert {\n",
              "      background-color: #3B4455;\n",
              "      fill: #D2E3FC;\n",
              "    }\n",
              "\n",
              "    [theme=dark] .colab-df-convert:hover {\n",
              "      background-color: #434B5C;\n",
              "      box-shadow: 0px 1px 3px 1px rgba(0, 0, 0, 0.15);\n",
              "      filter: drop-shadow(0px 1px 2px rgba(0, 0, 0, 0.3));\n",
              "      fill: #FFFFFF;\n",
              "    }\n",
              "  </style>\n",
              "\n",
              "      <script>\n",
              "        const buttonEl =\n",
              "          document.querySelector('#df-d603a371-cdbe-41e7-8163-e9b0c231111e button.colab-df-convert');\n",
              "        buttonEl.style.display =\n",
              "          google.colab.kernel.accessAllowed ? 'block' : 'none';\n",
              "\n",
              "        async function convertToInteractive(key) {\n",
              "          const element = document.querySelector('#df-d603a371-cdbe-41e7-8163-e9b0c231111e');\n",
              "          const dataTable =\n",
              "            await google.colab.kernel.invokeFunction('convertToInteractive',\n",
              "                                                     [key], {});\n",
              "          if (!dataTable) return;\n",
              "\n",
              "          const docLinkHtml = 'Like what you see? Visit the ' +\n",
              "            '<a target=\"_blank\" href=https://colab.research.google.com/notebooks/data_table.ipynb>data table notebook</a>'\n",
              "            + ' to learn more about interactive tables.';\n",
              "          element.innerHTML = '';\n",
              "          dataTable['output_type'] = 'display_data';\n",
              "          await google.colab.output.renderOutput(dataTable, element);\n",
              "          const docLink = document.createElement('div');\n",
              "          docLink.innerHTML = docLinkHtml;\n",
              "          element.appendChild(docLink);\n",
              "        }\n",
              "      </script>\n",
              "    </div>\n",
              "  </div>\n",
              "  "
            ]
          },
          "metadata": {},
          "execution_count": 22
        }
      ],
      "source": [
        "df_cleaned['Formatted Date'] = pd.to_datetime(df_cleaned['Formatted Date'], utc=True)\n",
        "df_cleaned = df_cleaned.set_index('Formatted Date')\n",
        "df_cleaned = df_cleaned.resample('M').mean()\n",
        "df_cleaned.head()"
      ]
    },
    {
      "cell_type": "code",
      "execution_count": null,
      "metadata": {
        "colab": {
          "base_uri": "https://localhost:8080/",
          "height": 425
        },
        "id": "eHLvUB0-AVZm",
        "outputId": "05f3ece8-6712-4064-aa9a-0df8da040668"
      },
      "outputs": [
        {
          "output_type": "execute_result",
          "data": {
            "text/plain": [
              "[<matplotlib.lines.Line2D at 0x7fe6bc1b5c10>,\n",
              " <matplotlib.lines.Line2D at 0x7fe6bc166750>]"
            ]
          },
          "metadata": {},
          "execution_count": 23
        },
        {
          "output_type": "display_data",
          "data": {
            "text/plain": [
              "<Figure size 1008x432 with 1 Axes>"
            ],
            "image/png": "[encoded data removed]"
          },
          "metadata": {
            "needs_background": "light"
          }
        }
      ],
      "source": [
        "plt.figure(figsize = (14 , 6))\n",
        "plt.title(\"Variasi Tempareture & Humidity per tahun (all month)\")\n",
        "plt.plot(df_cleaned[['Temperature (C)', 'Humidity']], marker = 'o')"
      ]
    },
    {
      "cell_type": "code",
      "execution_count": null,
      "metadata": {
        "colab": {
          "base_uri": "https://localhost:8080/",
          "height": 585
        },
        "id": "9iBGkLYFXxKk",
        "outputId": "fbad2aa6-1f8f-433d-ae3a-f0a9e842d711"
      },
      "outputs": [
        {
          "output_type": "display_data",
          "data": {
            "text/plain": [
              "<Figure size 576x576 with 1 Axes>"
            ],
            "image/png": "[encoded data removed]"
          },
          "metadata": {}
        }
      ],
      "source": [
        "sns.set_style(\"whitegrid\")\n",
        "sns.FacetGrid(df_cleaned, height=8).map(plt.scatter, \"Apparent Temperature (C)\", \"Humidity\")\n",
        "plt.show()"
      ]
    },
    {
      "cell_type": "code",
      "execution_count": null,
      "metadata": {
        "colab": {
          "base_uri": "https://localhost:8080/",
          "height": 763
        },
        "id": "88atYi2GvkWH",
        "outputId": "3d9c8edd-a5d7-4f55-cc1f-fe49f3d676d7"
      },
      "outputs": [
        {
          "output_type": "execute_result",
          "data": {
            "text/plain": [
              "Text(0.5, 1.0, 'Analisis kondisi cuaca dengan temperature(C)')"
            ]
          },
          "metadata": {},
          "execution_count": 36
        },
        {
          "output_type": "display_data",
          "data": {
            "text/plain": [
              "<Figure size 944.25x720 with 1 Axes>"
            ],
            "image/png": "[encoded data removed]"
          },
          "metadata": {}
        }
      ],
      "source": [
        "sns.set_style(\"darkgrid\")\n",
        "sns.FacetGrid(df, hue=\"Summary\", height=10).map(sns.histplot, \"Temperature (C)\").add_legend()\n",
        "plt.title(\"Analisis kondisi cuaca dengan temperature(C)\")"
      ]
    },
    {
      "cell_type": "code",
      "source": [
        ""
      ],
      "metadata": {
        "id": "d6oqur0bAPlG"
      },
      "execution_count": null,
      "outputs": []
    }
  ],
  "metadata": {
    "colab": {
      "collapsed_sections": [],
      "name": "Copy of Tugas_Praktikum_Modul_2_Penggalian_Data.ipynb",
      "provenance": []
    },
    "kernelspec": {
      "display_name": "Python 3",
      "name": "python3"
    },
    "language_info": {
      "name": "python"
    }
  },
  "nbformat": 4,
  "nbformat_minor": 0
}