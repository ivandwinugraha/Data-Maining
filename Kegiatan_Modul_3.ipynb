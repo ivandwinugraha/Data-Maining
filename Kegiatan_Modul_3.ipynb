{
  "cells": [
    {
      "cell_type": "markdown",
      "metadata": {
        "id": "view-in-github",
        "colab_type": "text"
      },
      "source": [
        "<a href=\"https://colab.research.google.com/github/ivandwinugraha/Data-Maining/blob/main/Kegiatan_Modul_3.ipynb\" target=\"_parent\"><img src=\"https://colab.research.google.com/assets/colab-badge.svg\" alt=\"Open In Colab\"/></a>"
      ]
    },
    {
      "cell_type": "markdown",
      "metadata": {
        "id": "yPZgRpVDuCPW"
      },
      "source": [
        "# **Kegiatan Modul 3**"
      ]
    },
    {
      "cell_type": "markdown",
      "metadata": {
        "id": "4CVopkiSY1jW"
      },
      "source": [
        "**Poin penilaian :**\n",
        "\n",
        "* Tingkat kesesuaian output program\n",
        "* Kerapian kode program\n",
        "* Kesederhanaan Kode\n",
        "* Pemahaman materi modul"
      ]
    },
    {
      "cell_type": "markdown",
      "metadata": {
        "id": "Mp8Nu2xJFfQg"
      },
      "source": [
        "### Definisikan sebuah plot dan atur parameter figure plot dengan ukuran 12x9 **5 poin**"
      ]
    },
    {
      "cell_type": "code",
      "execution_count": null,
      "metadata": {
        "id": "6mmcWKP27RTw"
      },
      "outputs": [],
      "source": [
        "# TULIS KODE ANDA DISINI"
      ]
    },
    {
      "cell_type": "markdown",
      "source": [
        "Hasil Output : \n",
        "\n",
        "![image.png](data:image/png;base64,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)\n",
        "\n",
        "\n",
        "\n"
      ],
      "metadata": {
        "id": "iNu5RDKpMFIw"
      }
    },
    {
      "cell_type": "markdown",
      "metadata": {
        "id": "loGIvd3pGL6b"
      },
      "source": [
        "### Gunakkan library pandas untuk load dataset dari link github berikuy [ini.](https://raw.githubusercontent.com/wiendewani/dataset/master/data.csv) **5 poin**"
      ]
    },
    {
      "cell_type": "code",
      "execution_count": 1,
      "metadata": {
        "id": "koEUi9NLOvI5",
        "outputId": "70b9516e-3996-470a-a52f-3491b4ab616d",
        "colab": {
          "base_uri": "https://localhost:8080/"
        }
      },
      "outputs": [
        {
          "output_type": "stream",
          "name": "stdout",
          "text": [
            "--2022-04-18 04:44:28--  https://raw.githubusercontent.com/wiendewani/dataset/master/data.csv\n",
            "Resolving raw.githubusercontent.com (raw.githubusercontent.com)... 185.199.108.133, 185.199.109.133, 185.199.110.133, ...\n",
            "Connecting to raw.githubusercontent.com (raw.githubusercontent.com)|185.199.108.133|:443... connected.\n",
            "HTTP request sent, awaiting response... 200 OK\n",
            "Length: 670 [text/plain]\n",
            "Saving to: ‘Summary.csv’\n",
            "\n",
            "\rSummary.csv           0%[                    ]       0  --.-KB/s               \rSummary.csv         100%[===================>]     670  --.-KB/s    in 0s      \n",
            "\n",
            "2022-04-18 04:44:28 (51.9 MB/s) - ‘Summary.csv’ saved [670/670]\n",
            "\n"
          ]
        }
      ],
      "source": [
        "# TULIS KODE ANDA DISINI\n",
        "!wget -O Summary.csv https://raw.githubusercontent.com/wiendewani/dataset/master/data.csv"
      ]
    },
    {
      "cell_type": "markdown",
      "metadata": {
        "id": "aGE6hS4FGvOe"
      },
      "source": [
        "### Tampilkan head dan tail dari dataset tersebut **10 poin**"
      ]
    },
    {
      "cell_type": "code",
      "execution_count": null,
      "metadata": {
        "id": "Mk33BEo6OviK"
      },
      "outputs": [],
      "source": [
        "# TULIS KODE ANDA DISINI"
      ]
    },
    {
      "cell_type": "markdown",
      "metadata": {
        "id": "zDLJ9jo1G5ew"
      },
      "source": [
        "### Tampilkan jumlah baris dari dataset tersebut **5 poin**}"
      ]
    },
    {
      "cell_type": "code",
      "execution_count": null,
      "metadata": {
        "id": "9z5ZC7TGOv2g"
      },
      "outputs": [],
      "source": [
        "# TULIS KODE ANDA DISINI"
      ]
    },
    {
      "cell_type": "markdown",
      "metadata": {
        "id": "rSVx7u_sHGQr"
      },
      "source": [
        "### Definisikan fitur `x` dan label `y` dari datset tersebut. Dimana data target class adalah kolom 1. **10 poin**"
      ]
    },
    {
      "cell_type": "markdown",
      "metadata": {
        "id": "2uQYhCi5UE1G"
      },
      "source": [
        "**Note :**\n",
        "\n",
        "supervised machine learning merupakan sebuah sub bidang ML yang mempelajari cara menggabungkan masukan untuk menghasilkan prediksi yang berguna pada data yang tidak pernah dilihat sebelumnya.\n",
        "\n",
        "**Label**\n",
        "\n",
        "Merupakan hal yang kita prediksi yang di notasikan oleh variabel `y` dalam regresi linear sederhana. Label tersebut bisa seperti harga sate padang di masa depan, jenis binatang yang dalam gambar, arti klip audio, atau tentang apa saja.\n",
        "\n",
        "**Fitur**\n",
        "\n",
        "Fitur merupakan variabel masukan yang di notasikan oleh variabel `x` dalam regresi linear sederhana. Sebuah project machine learning sederhana mungkin menggunakan fitur tunggal, sementara project machine learning yang lebih canggih dapat menggunakan jutaan fitur, ditetapkan sebagai:\n",
        "\n",
        "\\begin{equation}\n",
        "\n",
        "x_1, x_2, ..., x_n\n",
        "\n",
        "\\end{equation}\n",
        "\n",
        "[Read More](https://developers.google.com/machine-learning/crash-course/framing/ml-terminology?hl=id)"
      ]
    },
    {
      "cell_type": "markdown",
      "source": [
        "X = Mid Semester Exam \n",
        "\n",
        "Y = End Semester Exam"
      ],
      "metadata": {
        "id": "PKRsfQWJ55xu"
      }
    },
    {
      "cell_type": "code",
      "execution_count": null,
      "metadata": {
        "id": "kMtIpl58OwQH"
      },
      "outputs": [],
      "source": [
        "# TULIS KODE ANDA DISINI"
      ]
    },
    {
      "cell_type": "code",
      "execution_count": null,
      "metadata": {
        "id": "Pzpg0PaJVUWD"
      },
      "outputs": [],
      "source": [
        "X"
      ]
    },
    {
      "cell_type": "code",
      "execution_count": null,
      "metadata": {
        "id": "HaFvYKpvVYYk"
      },
      "outputs": [],
      "source": [
        "Y"
      ]
    },
    {
      "cell_type": "markdown",
      "metadata": {
        "id": "xTQs3nUDHbC0"
      },
      "source": [
        "### Buatlah scatter plot dari data tersebut. **10 poin**"
      ]
    },
    {
      "cell_type": "markdown",
      "metadata": {
        "id": "MJ23TCfBO6Ph"
      },
      "source": [
        "**Hasil Scatter Plot**\n",
        "\n",
        "<a href=\"https://ibb.co/XVC2xkH\"><img src=\"https://i.ibb.co/qxryYF6/Whats-App-Image-2022-04-13-at-10-14-08-AM.jpg\" alt=\"Whats-App-Image-2022-04-13-at-10-14-08-AM\" border=\"0\"></a>"
      ]
    },
    {
      "cell_type": "code",
      "execution_count": null,
      "metadata": {
        "id": "ImtY2xrdOwgC"
      },
      "outputs": [],
      "source": [
        "# TULIS KODE ANDA DISINI"
      ]
    },
    {
      "cell_type": "markdown",
      "metadata": {
        "id": "D0T-ot0yHmxb"
      },
      "source": [
        "### Terapkan metode linear regression manual \n",
        "\n",
        "Dengan cara mendefinisikan `iterasi` sebesar `25` , `learning rate` sebesar `0.0001` kemudian nilai `a` dan `b = 0` dan nilai `n` sebesar nilai float dari panjang data `x`. Kemudian tampilkan scatter plot dan juga garis linear untuk setiap iterasinya **30 poin**"
      ]
    },
    {
      "cell_type": "markdown",
      "metadata": {
        "id": "cye74U-pO-o2"
      },
      "source": [
        "**Hasil Scatter Plot dan Linier Line**\n",
        "\n",
        "<a href=\"https://ibb.co/Q9mKs1d\"><img src=\"https://i.ibb.co/v1zj2KY/gambar-2.jpg\" alt=\"gambar-2\" border=\"0\"></a>"
      ]
    },
    {
      "cell_type": "code",
      "execution_count": null,
      "metadata": {
        "id": "yCTcT5y_ChzI"
      },
      "outputs": [],
      "source": [
        "a = 0\n",
        "b = 0\n",
        "L = 0.001 #learning rate\n",
        "epochs = 10000 #jumlah iterasi"
      ]
    },
    {
      "cell_type": "code",
      "execution_count": null,
      "metadata": {
        "id": "pcoot8sQZonU"
      },
      "outputs": [],
      "source": [
        "# TULIS KODE ANDA DISINI"
      ]
    },
    {
      "cell_type": "markdown",
      "metadata": {
        "id": "TLNXTkuHKS82"
      },
      "source": [
        "### Gunakan libary `sklearn.linear_model.LinearRegression` untuk melakukan regresi liniers dengan menggunakan data css sebelumnya. \n",
        "\n",
        "\n",
        "Tampilkan scatter plot dan juga garis best fitting line nya **25 poin**"
      ]
    },
    {
      "cell_type": "markdown",
      "metadata": {
        "id": "SKNupneTPbPf"
      },
      "source": [
        "**Hasil Scatter Plot dan Best Fitting Line**\n",
        "\n",
        "<a href=\"https://ibb.co/hWzkcH0\"><img src=\"https://i.ibb.co/bB9xFLt/gambar-3.jpg\" alt=\"gambar-3\" border=\"0\"></a>"
      ]
    },
    {
      "cell_type": "code",
      "execution_count": null,
      "metadata": {
        "id": "TPlsp1ryJTeC"
      },
      "outputs": [],
      "source": [
        "from sklearn.linear_model import LinearRegression\n",
        "\n",
        "# TULIS KODE ANDA DISINI"
      ]
    }
  ],
  "metadata": {
    "colab": {
      "collapsed_sections": [
        "Mp8Nu2xJFfQg",
        "loGIvd3pGL6b",
        "aGE6hS4FGvOe",
        "zDLJ9jo1G5ew",
        "rSVx7u_sHGQr",
        "xTQs3nUDHbC0",
        "D0T-ot0yHmxb"
      ],
      "name": "Kegiatan Modul 3.ipynb",
      "provenance": [],
      "include_colab_link": true
    },
    "kernelspec": {
      "display_name": "Python 3",
      "language": "python",
      "name": "python3"
    },
    "language_info": {
      "codemirror_mode": {
        "name": "ipython",
        "version": 3
      },
      "file_extension": ".py",
      "mimetype": "text/x-python",
      "name": "python",
      "nbconvert_exporter": "python",
      "pygments_lexer": "ipython3",
      "version": "3.7.3"
    }
  },
  "nbformat": 4,
  "nbformat_minor": 0
}