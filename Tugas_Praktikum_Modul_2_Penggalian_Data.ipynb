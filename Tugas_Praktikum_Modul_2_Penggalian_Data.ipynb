{
  "nbformat": 4,
  "nbformat_minor": 0,
  "metadata": {
    "colab": {
      "name": "Tugas_Praktikum_Modul_2_Penggalian_Data.ipynb",
      "provenance": [],
      "collapsed_sections": [],
      "include_colab_link": true
    },
    "kernelspec": {
      "name": "python3",
      "display_name": "Python 3"
    },
    "language_info": {
      "name": "python"
    }
  },
  "cells": [
    {
      "cell_type": "markdown",
      "metadata": {
        "id": "view-in-github",
        "colab_type": "text"
      },
      "source": [
        "<a href=\"https://colab.research.google.com/github/ivandwinugraha/Data-Maining/blob/main/Tugas_Praktikum_Modul_2_Penggalian_Data.ipynb\" target=\"_parent\"><img src=\"https://colab.research.google.com/assets/colab-badge.svg\" alt=\"Open In Colab\"/></a>"
      ]
    },
    {
      "cell_type": "markdown",
      "source": [
        "Download data dibawah ini (1 Poin)<br>\n",
        "NIM Ganjil : (https://www.kaggle.com/gregorut/videogamesales) <br>\n",
        "NIM Genap : (https://www.kaggle.com/muthuj7/weather-dataset)"
      ],
      "metadata": {
        "id": "ifI9iIq0VIPz"
      }
    },
    {
      "cell_type": "code",
      "source": [
        "### tulis kode disini\n",
        "from google.colab import drive\n",
        "drive.mount('/content/drive')\n",
        "kaggle datasets download -d muthuj7/weather-dataset"
      ],
      "metadata": {
        "id": "rv9Q2qatc0oZ",
        "colab": {
          "base_uri": "https://localhost:8080/",
          "height": 135
        },
        "outputId": "795e3303-41c7-4aed-d75e-1484612044d8"
      },
      "execution_count": 1,
      "outputs": [
        {
          "output_type": "error",
          "ename": "SyntaxError",
          "evalue": "ignored",
          "traceback": [
            "\u001b[0;36m  File \u001b[0;32m\"<ipython-input-1-5fee44d1e550>\"\u001b[0;36m, line \u001b[0;32m4\u001b[0m\n\u001b[0;31m    kaggle datasets download -d muthuj7/weather-dataset\u001b[0m\n\u001b[0m                  ^\u001b[0m\n\u001b[0;31mSyntaxError\u001b[0m\u001b[0;31m:\u001b[0m invalid syntax\n"
          ]
        }
      ]
    },
    {
      "cell_type": "code",
      "source": [
        "### tulis kode disini"
      ],
      "metadata": {
        "id": "LWe5UhLKVS2J"
      },
      "execution_count": null,
      "outputs": []
    },
    {
      "cell_type": "markdown",
      "source": [
        "describe data tersebut **(10 Poin)** dan jelaskan pada asisten."
      ],
      "metadata": {
        "id": "QugFnCy9Vcqi"
      }
    },
    {
      "cell_type": "code",
      "source": [
        "### tulis kode disini"
      ],
      "metadata": {
        "id": "55n6AQ-2Vk15"
      },
      "execution_count": null,
      "outputs": []
    },
    {
      "cell_type": "markdown",
      "source": [
        "Tampilkan head dan tail dari data tersebut **(5 Poin)**"
      ],
      "metadata": {
        "id": "-EfNOOXiVnrI"
      }
    },
    {
      "cell_type": "code",
      "source": [
        "### tulis kode disini"
      ],
      "metadata": {
        "id": "A5uzxed8ed4y"
      },
      "execution_count": null,
      "outputs": []
    },
    {
      "cell_type": "markdown",
      "source": [
        "tampilkan nama column dari data tersebut **(2 Poin)**"
      ],
      "metadata": {
        "id": "nRj7IGSRV1SJ"
      }
    },
    {
      "cell_type": "code",
      "source": [
        "### tulis kode disini\n"
      ],
      "metadata": {
        "id": "Wi6nogxTV6hu"
      },
      "execution_count": null,
      "outputs": []
    },
    {
      "cell_type": "markdown",
      "source": [
        "drop column yang tidak diperlukan, dan jelaskan kepada asisten kenapa kolom tersebut tidak diperlukan **(15 Poin)**"
      ],
      "metadata": {
        "id": "Xm5RObFNV9T7"
      }
    },
    {
      "cell_type": "code",
      "source": [
        "### tulis kode disini"
      ],
      "metadata": {
        "id": "A0ls4tTmWFV9"
      },
      "execution_count": null,
      "outputs": []
    },
    {
      "cell_type": "markdown",
      "source": [
        "tampilkan head data setelah ada kolom yang dihapus **(5 Poin)**"
      ],
      "metadata": {
        "id": "zUsmiDN9WHCO"
      }
    },
    {
      "cell_type": "code",
      "source": [
        "### tulis kode disini"
      ],
      "metadata": {
        "id": "UjizApZ5WMDB"
      },
      "execution_count": null,
      "outputs": []
    },
    {
      "cell_type": "markdown",
      "source": [
        "cek data apakah ada yang null **(5 Poin)**"
      ],
      "metadata": {
        "id": "tQT19arQWN18"
      }
    },
    {
      "cell_type": "code",
      "source": [
        "### tulis kode disini"
      ],
      "metadata": {
        "id": "KKjCm4OkWnae"
      },
      "execution_count": null,
      "outputs": []
    },
    {
      "cell_type": "markdown",
      "source": [
        "lakukan cleaning data, dan jelaskan pada asisten proses cleaning data tersebut **(20 Poin)**"
      ],
      "metadata": {
        "id": "RrWhfTOBWSko"
      }
    },
    {
      "cell_type": "code",
      "source": [
        "### tulis kode disini"
      ],
      "metadata": {
        "id": "-wG3utMLWoCh"
      },
      "execution_count": null,
      "outputs": []
    },
    {
      "cell_type": "markdown",
      "source": [
        "tampilkan data setelah dilakukan cleaning **(5 Poin)**"
      ],
      "metadata": {
        "id": "szsqsmTmWZ0q"
      }
    },
    {
      "cell_type": "code",
      "source": [
        "### tulis kode disini"
      ],
      "metadata": {
        "id": "oobhrLNZWoy9"
      },
      "execution_count": null,
      "outputs": []
    },
    {
      "cell_type": "markdown",
      "source": [
        "analisis data tersebut, dan tampilkan minimal 3 chart dari data tersebut **(30 Poin)** serta jelaskan kepada asisten mengenai chart yang kalian buat dan informasi apa yang bisa kalian dapatkan"
      ],
      "metadata": {
        "id": "QVDxdJ5qWfu-"
      }
    },
    {
      "cell_type": "code",
      "source": [
        "### tulis kode disini"
      ],
      "metadata": {
        "id": "jqQovcn7WpnJ"
      },
      "execution_count": null,
      "outputs": []
    }
  ]
}